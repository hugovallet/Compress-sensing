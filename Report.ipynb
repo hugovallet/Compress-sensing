{
 "cells": [
  {
   "cell_type": "markdown",
   "metadata": {},
   "source": [
    "# Compressed sensing project : study of non-negative matrix factorization and online dictionary learning\n",
    "\n"
   ]
  },
  {
   "cell_type": "markdown",
   "metadata": {},
   "source": [
    "## Introduction: some definitions\n",
    "### - Dictionary learning:\n",
    "Let us consider a set X = [x\n",
    "1\n",
    ", . . . , x\n",
    "n] ∈ R\n",
    "m×n of n\n",
    "signals of dimension m. Dictionary learning is a matrix\n",
    "factorization problem that aims to represent these signals\n",
    "as linear combinations of dictionary elements, denoted here\n",
    "by the columns of a matrix D = [d\n",
    "1\n",
    ", . . . , d\n",
    "p\n",
    "] ∈ R\n",
    "m×p\n",
    ".\n",
    "More precisely, the dictionary D is learned along with a\n",
    "matrix of decomposition coefficients A = [α1\n",
    ", . . . , αn] ∈\n",
    "R\n",
    "p×n, so that x\n",
    "i ≈ Dαi\n",
    "for every signal x\n",
    "i\n",
    ", as measured\n",
    "by any convex loss, e.g., the square loss in this paper\n"
   ]
  },
  {
   "cell_type": "markdown",
   "metadata": {},
   "source": [
    "### - Sparse PCA:\n",
    "It is useful to distinguish two conceptually different interpretations\n",
    "of PCA. In terms of analysis, PCA sequentially\n",
    "projects the data on subspaces that explain the largest fraction\n",
    "of the variance of the data. In terms of synthesis, PCA\n",
    "finds a basis, or orthogonal dictionary, such that all signals\n",
    "observed admit decompositions with low reconstruction\n",
    "error. These two interpretations recover the same basis\n",
    "of principal components for PCA but lead to different\n",
    "formulations for sparse PCA."
   ]
  },
  {
   "cell_type": "markdown",
   "metadata": {},
   "source": [
    "## Online group-structured dictionary learning = Dictionary learning (=Matrix Factorization) + Structured sparse coding"
   ]
  },
  {
   "cell_type": "markdown",
   "metadata": {},
   "source": [
    "Dictionary learning = Dictionary is fixed and known.\n",
    "When combining dictionary learning and structured sparse coding, we want to learn the structure of the dictionary, e.g. alternating minimization of the dictionary.\n"
   ]
  },
  {
   "cell_type": "markdown",
   "metadata": {},
   "source": [
    "### 4 problems to solve:\n",
    "1. online algorithm\n",
    "2. enables general overlapping group structures\n",
    "3. applies non-convex sparsity inducing regularization\n",
    "4. can deal with missing information"
   ]
  },
  {
   "cell_type": "code",
   "execution_count": 2,
   "metadata": {
    "collapsed": false
   },
   "outputs": [],
   "source": [
    "import numpy as np\n",
    "import pandas as pd\n",
    "import cvxopt"
   ]
  },
  {
   "cell_type": "code",
   "execution_count": 3,
   "metadata": {
    "collapsed": true
   },
   "outputs": [],
   "source": [
    "%matplotlib inline\n",
    "import matplotlib.pyplot as plt\n",
    "import numpy as np\n",
    "import scipy.linalg as lin"
   ]
  },
  {
   "cell_type": "code",
   "execution_count": 204,
   "metadata": {
    "collapsed": true
   },
   "outputs": [],
   "source": [
    "from sklearn.metrics import mean_squared_error"
   ]
  },
  {
   "cell_type": "markdown",
   "metadata": {},
   "source": [
    "## First part : non-negative matrix factorization\n",
    "\n",
    "We wanted here to study Seung & Lee's \"Algorithms for Non-negative Matrix Factorization\" paper. They propose two types of non-negative factorization (NMF) : one that minimizes a least-squares distance and one that minimizes the Kullback-Leibler divergence (in the case that our initialization matrix is a probability matrix)."
   ]
  },
  {
   "cell_type": "markdown",
   "metadata": {},
   "source": [
    "__Least square NMF__\n",
    "\n",
    "Here is the problem setting:\n",
    "\n",
    "Given a matrix $V$ living in $\\mathbb{R}^{n,m}$ we want to find matrices $W\\in\\mathbb{R}^{n,k}$ and $H\\in\\mathbb{R}^{k,m}$ solutions of the following minimization problem:\n",
    "\n",
    "$$\n",
    "\\text{minimize }||V-WH||^2\\text{ under constraints } W,H>0\n",
    "$$\n"
   ]
  },
  {
   "cell_type": "markdown",
   "metadata": {},
   "source": [
    "The algorithm, similarly to a classical gradient descent, will start with random W and H. Then we will apply the following update rules allowing us to converge to a local minima (the problem is non convex w.r.t. W,H).\n",
    "\n",
    "$$\n",
    "H \\leftarrow H\\odot(W^TV)\\oslash(W^TWH)\n",
    "$$\n",
    "\n",
    "$$\n",
    "W \\leftarrow W\\odot(VH^T)\\oslash(WHH^T)\n",
    "$$\n",
    "\n",
    "With $\\odot$ standing for element-wise product and $\\oslash$ standing for element-wise division"
   ]
  },
  {
   "cell_type": "code",
   "execution_count": 4,
   "metadata": {
    "collapsed": true
   },
   "outputs": [],
   "source": [
    "def update_h(V,W,H):\n",
    "    factor1 = np.dot(W.T,V)\n",
    "    factor2 = np.dot(np.dot(W.T,W),H)\n",
    "    return H*factor1/factor2"
   ]
  },
  {
   "cell_type": "code",
   "execution_count": 5,
   "metadata": {
    "collapsed": true
   },
   "outputs": [],
   "source": [
    "def update_w(V,W,H):\n",
    "    factor1 = np.dot(V,H.T)\n",
    "    factor2 = np.dot(W,np.dot(H,H.T))\n",
    "    return W*factor1/factor2\n",
    "        "
   ]
  },
  {
   "cell_type": "code",
   "execution_count": 6,
   "metadata": {
    "collapsed": true
   },
   "outputs": [],
   "source": [
    "def error(V,W,H):\n",
    "    return lin.norm(V-np.dot(W,H))"
   ]
  },
  {
   "cell_type": "code",
   "execution_count": 7,
   "metadata": {
    "collapsed": true
   },
   "outputs": [],
   "source": [
    "def non_negative_threshold(Z):\n",
    "    neg_coefs = Z<0\n",
    "    Z[neg_coefs] = 0\n",
    "    return Z"
   ]
  },
  {
   "cell_type": "code",
   "execution_count": 8,
   "metadata": {
    "collapsed": false
   },
   "outputs": [],
   "source": [
    "def solver(V,W,H,t=100,verbose=False):\n",
    "    err=[]\n",
    "    for i in range(t):\n",
    "        W_new = update_w(V,W,H)\n",
    "        W = W_new\n",
    "        H_new = update_h(V,W,H)\n",
    "        H = H_new\n",
    "        if verbose==True:\n",
    "            print error(V,W,H)\n",
    "        err.append(error(V,W,H))\n",
    "    \n",
    "    return W,H,err"
   ]
  },
  {
   "cell_type": "code",
   "execution_count": 84,
   "metadata": {
    "collapsed": true
   },
   "outputs": [],
   "source": [
    "from sklearn.datasets import fetch_lfw_people\n",
    "dataset = fetch_lfw_people(min_faces_per_person=70, resize=0.4)\n",
    "V = dataset.data\n",
    "\n",
    "n,m = V.shape\n",
    "k = 150\n",
    "iterations = 500\n",
    "H = non_negative_threshold(15+np.random.randn(k, m))\n",
    "W = non_negative_threshold(15+np.random.randn(n, k))"
   ]
  },
  {
   "cell_type": "code",
   "execution_count": 24,
   "metadata": {
    "collapsed": false
   },
   "outputs": [
    {
     "ename": "KeyboardInterrupt",
     "evalue": "",
     "output_type": "error",
     "traceback": [
      "\u001b[1;31m---------------------------------------------------------------------------\u001b[0m",
      "\u001b[1;31mKeyboardInterrupt\u001b[0m                         Traceback (most recent call last)",
      "\u001b[1;32m<ipython-input-24-88ae6a7923d7>\u001b[0m in \u001b[0;36m<module>\u001b[1;34m()\u001b[0m\n\u001b[1;32m----> 1\u001b[1;33m \u001b[0mW\u001b[0m\u001b[1;33m,\u001b[0m\u001b[0mH\u001b[0m\u001b[1;33m,\u001b[0m\u001b[0merr\u001b[0m \u001b[1;33m=\u001b[0m \u001b[0msolver\u001b[0m\u001b[1;33m(\u001b[0m\u001b[0mratings\u001b[0m\u001b[1;33m,\u001b[0m\u001b[0mW\u001b[0m\u001b[1;33m,\u001b[0m\u001b[0mH\u001b[0m\u001b[1;33m,\u001b[0m\u001b[0miterations\u001b[0m\u001b[1;33m)\u001b[0m\u001b[1;33m\u001b[0m\u001b[0m\n\u001b[0m",
      "\u001b[1;32m<ipython-input-8-5bb5245aa617>\u001b[0m in \u001b[0;36msolver\u001b[1;34m(V, W, H, t, verbose)\u001b[0m\n\u001b[0;32m      8\u001b[0m         \u001b[1;32mif\u001b[0m \u001b[0mverbose\u001b[0m\u001b[1;33m==\u001b[0m\u001b[0mTrue\u001b[0m\u001b[1;33m:\u001b[0m\u001b[1;33m\u001b[0m\u001b[0m\n\u001b[0;32m      9\u001b[0m             \u001b[1;32mprint\u001b[0m \u001b[0merror\u001b[0m\u001b[1;33m(\u001b[0m\u001b[0mV\u001b[0m\u001b[1;33m,\u001b[0m\u001b[0mW\u001b[0m\u001b[1;33m,\u001b[0m\u001b[0mH\u001b[0m\u001b[1;33m)\u001b[0m\u001b[1;33m\u001b[0m\u001b[0m\n\u001b[1;32m---> 10\u001b[1;33m         \u001b[0merr\u001b[0m\u001b[1;33m.\u001b[0m\u001b[0mappend\u001b[0m\u001b[1;33m(\u001b[0m\u001b[0merror\u001b[0m\u001b[1;33m(\u001b[0m\u001b[0mV\u001b[0m\u001b[1;33m,\u001b[0m\u001b[0mW\u001b[0m\u001b[1;33m,\u001b[0m\u001b[0mH\u001b[0m\u001b[1;33m)\u001b[0m\u001b[1;33m)\u001b[0m\u001b[1;33m\u001b[0m\u001b[0m\n\u001b[0m\u001b[0;32m     11\u001b[0m \u001b[1;33m\u001b[0m\u001b[0m\n\u001b[0;32m     12\u001b[0m     \u001b[1;32mreturn\u001b[0m \u001b[0mW\u001b[0m\u001b[1;33m,\u001b[0m\u001b[0mH\u001b[0m\u001b[1;33m,\u001b[0m\u001b[0merr\u001b[0m\u001b[1;33m\u001b[0m\u001b[0m\n",
      "\u001b[1;32m<ipython-input-6-df4e83ba92ae>\u001b[0m in \u001b[0;36merror\u001b[1;34m(V, W, H)\u001b[0m\n\u001b[0;32m      1\u001b[0m \u001b[1;32mdef\u001b[0m \u001b[0merror\u001b[0m\u001b[1;33m(\u001b[0m\u001b[0mV\u001b[0m\u001b[1;33m,\u001b[0m\u001b[0mW\u001b[0m\u001b[1;33m,\u001b[0m\u001b[0mH\u001b[0m\u001b[1;33m)\u001b[0m\u001b[1;33m:\u001b[0m\u001b[1;33m\u001b[0m\u001b[0m\n\u001b[1;32m----> 2\u001b[1;33m     \u001b[1;32mreturn\u001b[0m \u001b[0mlin\u001b[0m\u001b[1;33m.\u001b[0m\u001b[0mnorm\u001b[0m\u001b[1;33m(\u001b[0m\u001b[0mV\u001b[0m\u001b[1;33m-\u001b[0m\u001b[0mnp\u001b[0m\u001b[1;33m.\u001b[0m\u001b[0mdot\u001b[0m\u001b[1;33m(\u001b[0m\u001b[0mW\u001b[0m\u001b[1;33m,\u001b[0m\u001b[0mH\u001b[0m\u001b[1;33m)\u001b[0m\u001b[1;33m)\u001b[0m\u001b[1;33m\u001b[0m\u001b[0m\n\u001b[0m",
      "\u001b[1;31mKeyboardInterrupt\u001b[0m: "
     ]
    }
   ],
   "source": [
    "W,H,err = solver(ratings,W,H,iterations)"
   ]
  },
  {
   "cell_type": "code",
   "execution_count": 86,
   "metadata": {
    "collapsed": true
   },
   "outputs": [],
   "source": [
    "def plot_faces(faces, n_rows=4, n_cols=8, label=True):\n",
    "    plt.figure(figsize=(14, 10))\n",
    "    n_rows, n_cols = 4, 8\n",
    "    face_shape = (50, 37)\n",
    "    for k, flat_face in enumerate(faces):\n",
    "        if k >= n_rows * n_cols:\n",
    "            break\n",
    "        face = flat_face.reshape(face_shape)\n",
    "        plt.subplot(n_rows, n_cols, k+1)\n",
    "        plt.imshow(face, cmap=plt.cm.gray, interpolation='none')\n",
    "        plt.xticks(())\n",
    "        plt.yticks(())\n",
    "        if label:\n",
    "            plt.title(target_names[y[k]], size=10)"
   ]
  },
  {
   "cell_type": "code",
   "execution_count": 87,
   "metadata": {
    "collapsed": false
   },
   "outputs": [
    {
     "data": {
      "image/png": "[encoded data removed]",
      "text/plain": [
       "<matplotlib.figure.Figure at 0x220eba90>"
      ]
     },
     "metadata": {},
     "output_type": "display_data"
    }
   ],
   "source": [
    "plot_faces(H,label=False)"
   ]
  },
  {
   "cell_type": "code",
   "execution_count": 88,
   "metadata": {
    "collapsed": false
   },
   "outputs": [
    {
     "data": {
      "text/plain": [
       "<matplotlib.text.Text at 0x23d98160>"
      ]
     },
     "execution_count": 88,
     "metadata": {},
     "output_type": "execute_result"
    },
    {
     "data": {
      "image/png": "[encoded data removed]",
      "text/plain": [
       "<matplotlib.figure.Figure at 0x21784da0>"
      ]
     },
     "metadata": {},
     "output_type": "display_data"
    }
   ],
   "source": [
    "plt.plot(np.arange(len(err)),err)\n",
    "plt.xlabel(\"Iteration\")\n",
    "plt.ylabel(\"Euclidian distance\")\n",
    "plt.title(\"Evolution of the distance between V and WH\")"
   ]
  },
  {
   "cell_type": "markdown",
   "metadata": {},
   "source": [
    "__Kullback-Leibler NMF__\n",
    "\n",
    "Here the problem setting is similar, the only diference resides in the distance minimized:\n",
    "\n",
    "Given a matrix $V$ living in $\\mathbb{R}^{n,m}$ we want to find matrices $W\\in\\mathbb{R}^{n,k}$ and $H\\in\\mathbb{R}^{k,m}$ solutions of the following minimization problem:\n",
    "\n",
    "$$\n",
    "\\text{minimize }KL(V,WH)\\text{ under constraints } W,H>0\n",
    "$$\n"
   ]
  },
  {
   "cell_type": "markdown",
   "metadata": {},
   "source": [
    "Here again, Lee and Seung propose a multiplicative update rule rewritten using a similar paper \"MULTIPLICATIVE UPDATE RULES FOR NONNEGATIVE MATRIX FACTORIZATION WITH CO-OCCURRENCE CONSTRAINTS\" (http://sig.umd.edu/publications/Tjoa_ICASSP2_201003.pdf)\n",
    "\n",
    "$$\n",
    "H \\leftarrow H\\odot \\frac{W^T\\frac{V}{WH}}{W^T\\mathbb{1}^n}\n",
    "$$\n",
    "\n",
    "$$\n",
    "W \\leftarrow W\\odot \\frac{\\frac{V}{WH}H^T}{\\mathbb{1}^mH^T}\n",
    "$$\n",
    "\n",
    "with $\\odot$ the element-wise matrix product and $\\hline$ the element-wise division."
   ]
  },
  {
   "cell_type": "code",
   "execution_count": 107,
   "metadata": {
    "collapsed": true
   },
   "outputs": [],
   "source": [
    "def update_h(V,W,H):\n",
    "    n,m = V.shape\n",
    "    unit_vector = np.ones((n,m))\n",
    "    factor1 = np.dot(W.T,V/np.dot(W,H))\n",
    "    factor2 = np.dot(W.T,unit_vector)\n",
    "    return H*factor1/factor2\n",
    "\n",
    "def update_w(V,W,H):\n",
    "    n,m = V.shape\n",
    "    unit_vector = np.ones((n,m))\n",
    "    factor1 = np.dot(V/np.dot(W,H),H.T)\n",
    "    factor2 = np.dot(unit_vector,H.T)\n",
    "    return W*factor1/factor2\n",
    "\n",
    "def normalize(Z):\n",
    "    norm = Z.sum(axis=1).sum()\n",
    "    Z_new = Z.astype(float)/norm\n",
    "    return Z_new\n"
   ]
  },
  {
   "cell_type": "code",
   "execution_count": 124,
   "metadata": {
    "collapsed": false
   },
   "outputs": [],
   "source": [
    "from sklearn.datasets import fetch_lfw_people\n",
    "dataset = fetch_lfw_people(min_faces_per_person=70, resize=0.4)\n",
    "V = dataset.data\n",
    "\n",
    "n,m = V.shape\n",
    "k = 150\n",
    "iterations = 50\n",
    "H = non_negative_threshold(15+np.random.randn(k, m))\n",
    "W = non_negative_threshold(15+np.random.randn(n, k))\n",
    "V = normalize(V) #Here it is compulsory to renormalize V so that the sum of its coefficients equals 1 (V should be a propability matrix)"
   ]
  },
  {
   "cell_type": "code",
   "execution_count": 120,
   "metadata": {
    "collapsed": false
   },
   "outputs": [
    {
     "name": "stdout",
     "output_type": "stream",
     "text": [
      "0.000166000538623\n",
      "0.00016599960582\n",
      "0.00016599864543\n",
      "0.000165997641692\n",
      "0.000165996575503\n",
      "0.000165995425246\n",
      "0.000165994165882\n",
      "0.000165992767885\n",
      "0.000165991195946\n",
      "0.000165989407394\n",
      "0.000165987350256\n",
      "0.00016598496085\n",
      "0.000165982160788\n",
      "0.000165978853254\n",
      "0.000165974918331\n",
      "0.000165970207185\n",
      "0.000165964534761\n",
      "0.000165957670667\n",
      "0.000165949327746\n",
      "0.000165939147806\n",
      "0.000165926683783\n",
      "0.000165911377503\n",
      "0.000165892532001\n",
      "0.000165869277186\n",
      "0.000165840527403\n",
      "0.000165804929261\n",
      "0.000165760797952\n",
      "0.00016570604022\n",
      "0.000165638062375\n",
      "0.000165553662288\n",
      "0.000165448905592\n",
      "0.000165318988623\n",
      "0.00016515809451\n",
      "0.000164959254999\n",
      "0.000164714239715\n",
      "0.000164413507238\n",
      "0.000164046268351\n",
      "0.000163600729504\n",
      "0.000163064598878\n",
      "0.000162425939205\n",
      "0.000161674425522\n",
      "0.000160802993835\n",
      "0.00015980973454\n",
      "0.000158699699809\n",
      "0.000157486107483\n",
      "0.000156190338047\n",
      "0.000154840263034\n",
      "0.000153466880303\n",
      "0.000152099869474\n",
      "0.000150763235459\n"
     ]
    }
   ],
   "source": [
    "W,H,err = solver(V,W,H,iterations,verbose=True)"
   ]
  },
  {
   "cell_type": "code",
   "execution_count": 123,
   "metadata": {
    "collapsed": false
   },
   "outputs": [
    {
     "data": {
      "text/plain": [
       "0.99999999993112687"
      ]
     },
     "execution_count": 123,
     "metadata": {},
     "output_type": "execute_result"
    }
   ],
   "source": [
    "np.dot(W,H).sum(axis=0).sum()"
   ]
  },
  {
   "cell_type": "markdown",
   "metadata": {},
   "source": [
    "# Jester database"
   ]
  },
  {
   "cell_type": "code",
   "execution_count": 210,
   "metadata": {
    "collapsed": false
   },
   "outputs": [],
   "source": [
    "xl = pd.ExcelFile('jester-data-1.xls')"
   ]
  },
  {
   "cell_type": "code",
   "execution_count": 211,
   "metadata": {
    "collapsed": false
   },
   "outputs": [
    {
     "data": {
      "text/plain": [
       "[u'jester-data-1-new']"
      ]
     },
     "execution_count": 211,
     "metadata": {},
     "output_type": "execute_result"
    }
   ],
   "source": [
    "xl.sheet_names"
   ]
  },
  {
   "cell_type": "code",
   "execution_count": 212,
   "metadata": {
    "collapsed": false
   },
   "outputs": [],
   "source": [
    "df = xl.parse('jester-data-1-new', header = None)"
   ]
  },
  {
   "cell_type": "code",
   "execution_count": 213,
   "metadata": {
    "collapsed": false
   },
   "outputs": [],
   "source": [
    "nb_jokes_user = df[0]"
   ]
  },
  {
   "cell_type": "code",
   "execution_count": 214,
   "metadata": {
    "collapsed": false
   },
   "outputs": [],
   "source": [
    "del df[0]"
   ]
  },
  {
   "cell_type": "code",
   "execution_count": 215,
   "metadata": {
    "collapsed": false,
    "scrolled": true
   },
   "outputs": [
    {
     "data": {
      "text/html": [
       "<div>\n",
       "<table border=\"1\" class=\"dataframe\">\n",
       "  <thead>\n",
       "    <tr style=\"text-align: right;\">\n",
       "      <th></th>\n",
       "      <th>1</th>\n",
       "      <th>2</th>\n",
       "      <th>3</th>\n",
       "      <th>4</th>\n",
       "      <th>5</th>\n",
       "      <th>6</th>\n",
       "      <th>7</th>\n",
       "      <th>8</th>\n",
       "      <th>9</th>\n",
       "      <th>10</th>\n",
       "      <th>...</th>\n",
       "      <th>91</th>\n",
       "      <th>92</th>\n",
       "      <th>93</th>\n",
       "      <th>94</th>\n",
       "      <th>95</th>\n",
       "      <th>96</th>\n",
       "      <th>97</th>\n",
       "      <th>98</th>\n",
       "      <th>99</th>\n",
       "      <th>100</th>\n",
       "    </tr>\n",
       "  </thead>\n",
       "  <tbody>\n",
       "    <tr>\n",
       "      <th>0</th>\n",
       "      <td>-7.82</td>\n",
       "      <td>8.79</td>\n",
       "      <td>-9.66</td>\n",
       "      <td>-8.16</td>\n",
       "      <td>-7.52</td>\n",
       "      <td>-8.50</td>\n",
       "      <td>-9.85</td>\n",
       "      <td>4.17</td>\n",
       "      <td>-8.98</td>\n",
       "      <td>-4.76</td>\n",
       "      <td>...</td>\n",
       "      <td>2.82</td>\n",
       "      <td>99.00</td>\n",
       "      <td>99.00</td>\n",
       "      <td>99.00</td>\n",
       "      <td>99.00</td>\n",
       "      <td>99.00</td>\n",
       "      <td>-5.63</td>\n",
       "      <td>99.00</td>\n",
       "      <td>99.00</td>\n",
       "      <td>99.00</td>\n",
       "    </tr>\n",
       "    <tr>\n",
       "      <th>1</th>\n",
       "      <td>4.08</td>\n",
       "      <td>-0.29</td>\n",
       "      <td>6.36</td>\n",
       "      <td>4.37</td>\n",
       "      <td>-2.38</td>\n",
       "      <td>-9.66</td>\n",
       "      <td>-0.73</td>\n",
       "      <td>-5.34</td>\n",
       "      <td>8.88</td>\n",
       "      <td>9.22</td>\n",
       "      <td>...</td>\n",
       "      <td>2.82</td>\n",
       "      <td>-4.95</td>\n",
       "      <td>-0.29</td>\n",
       "      <td>7.86</td>\n",
       "      <td>-0.19</td>\n",
       "      <td>-2.14</td>\n",
       "      <td>3.06</td>\n",
       "      <td>0.34</td>\n",
       "      <td>-4.32</td>\n",
       "      <td>1.07</td>\n",
       "    </tr>\n",
       "    <tr>\n",
       "      <th>2</th>\n",
       "      <td>99.00</td>\n",
       "      <td>99.00</td>\n",
       "      <td>99.00</td>\n",
       "      <td>99.00</td>\n",
       "      <td>9.03</td>\n",
       "      <td>9.27</td>\n",
       "      <td>9.03</td>\n",
       "      <td>9.27</td>\n",
       "      <td>99.00</td>\n",
       "      <td>99.00</td>\n",
       "      <td>...</td>\n",
       "      <td>99.00</td>\n",
       "      <td>99.00</td>\n",
       "      <td>99.00</td>\n",
       "      <td>9.08</td>\n",
       "      <td>99.00</td>\n",
       "      <td>99.00</td>\n",
       "      <td>99.00</td>\n",
       "      <td>99.00</td>\n",
       "      <td>99.00</td>\n",
       "      <td>99.00</td>\n",
       "    </tr>\n",
       "    <tr>\n",
       "      <th>3</th>\n",
       "      <td>99.00</td>\n",
       "      <td>8.35</td>\n",
       "      <td>99.00</td>\n",
       "      <td>99.00</td>\n",
       "      <td>1.80</td>\n",
       "      <td>8.16</td>\n",
       "      <td>-2.82</td>\n",
       "      <td>6.21</td>\n",
       "      <td>99.00</td>\n",
       "      <td>1.84</td>\n",
       "      <td>...</td>\n",
       "      <td>99.00</td>\n",
       "      <td>99.00</td>\n",
       "      <td>99.00</td>\n",
       "      <td>0.53</td>\n",
       "      <td>99.00</td>\n",
       "      <td>99.00</td>\n",
       "      <td>99.00</td>\n",
       "      <td>99.00</td>\n",
       "      <td>99.00</td>\n",
       "      <td>99.00</td>\n",
       "    </tr>\n",
       "    <tr>\n",
       "      <th>4</th>\n",
       "      <td>8.50</td>\n",
       "      <td>4.61</td>\n",
       "      <td>-4.17</td>\n",
       "      <td>-5.39</td>\n",
       "      <td>1.36</td>\n",
       "      <td>1.60</td>\n",
       "      <td>7.04</td>\n",
       "      <td>4.61</td>\n",
       "      <td>-0.44</td>\n",
       "      <td>5.73</td>\n",
       "      <td>...</td>\n",
       "      <td>5.19</td>\n",
       "      <td>5.58</td>\n",
       "      <td>4.27</td>\n",
       "      <td>5.19</td>\n",
       "      <td>5.73</td>\n",
       "      <td>1.55</td>\n",
       "      <td>3.11</td>\n",
       "      <td>6.55</td>\n",
       "      <td>1.80</td>\n",
       "      <td>1.60</td>\n",
       "    </tr>\n",
       "  </tbody>\n",
       "</table>\n",
       "<p>5 rows × 100 columns</p>\n",
       "</div>"
      ],
      "text/plain": [
       "     1      2      3      4     5     6     7     8      9      10   ...    \\\n",
       "0  -7.82   8.79  -9.66  -8.16 -7.52 -8.50 -9.85  4.17  -8.98  -4.76  ...     \n",
       "1   4.08  -0.29   6.36   4.37 -2.38 -9.66 -0.73 -5.34   8.88   9.22  ...     \n",
       "2  99.00  99.00  99.00  99.00  9.03  9.27  9.03  9.27  99.00  99.00  ...     \n",
       "3  99.00   8.35  99.00  99.00  1.80  8.16 -2.82  6.21  99.00   1.84  ...     \n",
       "4   8.50   4.61  -4.17  -5.39  1.36  1.60  7.04  4.61  -0.44   5.73  ...     \n",
       "\n",
       "     91     92     93     94     95     96     97     98     99     100  \n",
       "0   2.82  99.00  99.00  99.00  99.00  99.00  -5.63  99.00  99.00  99.00  \n",
       "1   2.82  -4.95  -0.29   7.86  -0.19  -2.14   3.06   0.34  -4.32   1.07  \n",
       "2  99.00  99.00  99.00   9.08  99.00  99.00  99.00  99.00  99.00  99.00  \n",
       "3  99.00  99.00  99.00   0.53  99.00  99.00  99.00  99.00  99.00  99.00  \n",
       "4   5.19   5.58   4.27   5.19   5.73   1.55   3.11   6.55   1.80   1.60  \n",
       "\n",
       "[5 rows x 100 columns]"
      ]
     },
     "execution_count": 215,
     "metadata": {},
     "output_type": "execute_result"
    }
   ],
   "source": [
    "df.head()"
   ]
  },
  {
   "cell_type": "code",
   "execution_count": 216,
   "metadata": {
    "collapsed": false
   },
   "outputs": [
    {
     "name": "stdout",
     "output_type": "stream",
     "text": [
      "24983 users\n",
      "100 items\n"
     ]
    }
   ],
   "source": [
    "n_users = df.shape[0]\n",
    "n_items = df.shape[1]\n",
    "print str(n_users) + ' users'\n",
    "print str(n_items) + ' items'"
   ]
  },
  {
   "cell_type": "code",
   "execution_count": 217,
   "metadata": {
    "collapsed": false
   },
   "outputs": [],
   "source": [
    "ratings = np.array(df)"
   ]
  },
  {
   "cell_type": "code",
   "execution_count": 218,
   "metadata": {
    "collapsed": false
   },
   "outputs": [
    {
     "data": {
      "text/plain": [
       "array([[ -7.82,   8.79,  -9.66, ...,  99.  ,  99.  ,  99.  ],\n",
       "       [  4.08,  -0.29,   6.36, ...,   0.34,  -4.32,   1.07],\n",
       "       [ 99.  ,  99.  ,  99.  , ...,  99.  ,  99.  ,  99.  ],\n",
       "       ..., \n",
       "       [ 99.  ,  99.  ,  99.  , ...,  99.  ,  99.  ,  99.  ],\n",
       "       [ 99.  ,  99.  ,  99.  , ...,  99.  ,  99.  ,  99.  ],\n",
       "       [  2.43,   2.67,  -3.98, ...,  99.  ,  99.  ,  99.  ]])"
      ]
     },
     "execution_count": 218,
     "metadata": {},
     "output_type": "execute_result"
    }
   ],
   "source": [
    "ratings"
   ]
  },
  {
   "cell_type": "markdown",
   "metadata": {
    "collapsed": true
   },
   "source": [
    "# Second part: Online Structured Dictionary Learning"
   ]
  },
  {
   "cell_type": "markdown",
   "metadata": {},
   "source": [
    "## 3. CF"
   ]
  },
  {
   "cell_type": "code",
   "execution_count": 35,
   "metadata": {
    "collapsed": false
   },
   "outputs": [],
   "source": [
    "d_alpha = 100"
   ]
  },
  {
   "cell_type": "code",
   "execution_count": 38,
   "metadata": {
    "collapsed": false
   },
   "outputs": [
    {
     "data": {
      "text/plain": [
       "(24983L, 100L)"
      ]
     },
     "execution_count": 38,
     "metadata": {},
     "output_type": "execute_result"
    }
   ],
   "source": [
    "ratings.shape"
   ]
  },
  {
   "cell_type": "code",
   "execution_count": 222,
   "metadata": {
    "collapsed": true
   },
   "outputs": [],
   "source": [
    "## Partition the ratings into train / validation set\n",
    "R_train = ratings[:10000]\n",
    "R_val = ratings[10000:20000]\n",
    "R_test = ratings[20000:]"
   ]
  },
  {
   "cell_type": "code",
   "execution_count": 223,
   "metadata": {
    "collapsed": false
   },
   "outputs": [
    {
     "data": {
      "text/plain": [
       "(4983L, 100L)"
      ]
     },
     "execution_count": 223,
     "metadata": {},
     "output_type": "execute_result"
    }
   ],
   "source": [
    "R_test.shape"
   ]
  },
  {
   "cell_type": "markdown",
   "metadata": {},
   "source": [
    "# Initialisation de l'entrée dans l'algo"
   ]
  },
  {
   "cell_type": "markdown",
   "metadata": {},
   "source": [
    "## On initialise D, $\\alpha$, etc. "
   ]
  },
  {
   "cell_type": "code",
   "execution_count": 238,
   "metadata": {
    "collapsed": false
   },
   "outputs": [],
   "source": [
    "### Initlialize of parameters \n",
    "D = np.random.randn(d_x,d_alpha)\n",
    "alpha = np.random.randn(d_alpha)\n",
    "T_alpha = 5\n",
    "epsilon = 10**(-5)\n",
    "eta = 0.5\n",
    "kappa = 1. / (2**10)\n",
    "#d_G = np.ones(d_alpha)\n",
    "d_G = group_structure(d_alpha, struct='lasso', nb_group=10)"
   ]
  },
  {
   "cell_type": "code",
   "execution_count": 240,
   "metadata": {
    "collapsed": false
   },
   "outputs": [
    {
     "data": {
      "text/plain": [
       "array([ 1.,  0.,  0.,  0.,  0.,  0.,  0.,  0.,  0.,  0.,  0.,  0.,  0.,\n",
       "        0.,  0.,  0.,  0.,  0.,  0.,  0.,  0.,  0.,  0.,  0.,  0.,  0.,\n",
       "        0.,  0.,  0.,  0.,  0.,  0.,  0.,  0.,  0.,  0.,  0.,  0.,  0.,\n",
       "        0.,  0.,  0.,  0.,  0.,  0.,  0.,  0.,  0.,  0.,  0.,  0.,  0.,\n",
       "        0.,  0.,  0.,  0.,  0.,  0.,  0.,  0.,  0.,  0.,  0.,  0.,  0.,\n",
       "        0.,  0.,  0.,  0.,  0.,  0.,  0.,  0.,  0.,  0.,  0.,  0.,  0.,\n",
       "        0.,  0.,  0.,  0.,  0.,  0.,  0.,  0.,  0.,  0.,  0.,  0.,  0.,\n",
       "        0.,  0.,  0.,  0.,  0.,  0.,  0.,  0.,  0.])"
      ]
     },
     "execution_count": 240,
     "metadata": {},
     "output_type": "execute_result"
    }
   ],
   "source": [
    "d_G[0]"
   ]
  },
  {
   "cell_type": "code",
   "execution_count": 241,
   "metadata": {
    "collapsed": false
   },
   "outputs": [
    {
     "data": {
      "text/plain": [
       "array([ 1.24618675, -0.44025293,  0.31052356, -0.44436276,  0.39072999,\n",
       "        1.38097852,  0.6865351 ,  0.06067157,  1.22770667, -0.34496713,\n",
       "       -2.19584973,  2.01878237,  2.53725374,  1.13965004,  0.340518  ,\n",
       "        1.33068438, -0.66236244, -0.64097486,  1.03704006, -1.0566791 ,\n",
       "        0.18576491,  2.217863  , -1.37539204,  0.61226934,  0.74908406,\n",
       "        1.85218612,  0.83894947, -0.24619774, -0.05328985, -1.1091567 ,\n",
       "       -0.5463071 , -0.88432155,  2.4599541 , -1.46291005, -0.32012143,\n",
       "        1.74793316,  0.65256059, -1.00530462, -1.10265767, -0.07016784,\n",
       "       -0.60402397,  0.04367416, -0.28297634, -1.61759365,  0.49716357,\n",
       "       -0.97946526,  2.56169443, -0.02270301,  0.50339582, -0.17284325,\n",
       "        0.1692232 , -1.20428179, -0.78678755, -2.32792899, -1.67119879,\n",
       "        0.76409355,  0.16320885,  0.75043187,  0.46925164, -0.63203155,\n",
       "       -1.57011556,  0.7033537 ,  0.66140206,  0.10451633,  0.23762245,\n",
       "        0.54114941, -0.98130388,  1.17361088, -0.18407816, -2.02026627,\n",
       "        1.92616883, -1.46543434, -0.43135637,  0.60537454, -1.06865801,\n",
       "        0.77748935,  0.75303267,  0.69000232,  0.8397628 , -1.7806151 ,\n",
       "       -0.50294707,  0.07095615, -1.56775789, -1.11690963, -0.18518062,\n",
       "        0.70748215,  0.72714478, -0.24066483, -0.22128681,  1.41558951,\n",
       "       -1.28361751, -0.58905035, -0.15915641, -0.07128522, -0.28470753,\n",
       "       -0.41085436,  0.31380879, -0.5587362 ,  0.4211337 ,  1.42011041])"
      ]
     },
     "execution_count": 241,
     "metadata": {},
     "output_type": "execute_result"
    }
   ],
   "source": [
    "alpha"
   ]
  },
  {
   "cell_type": "markdown",
   "metadata": {},
   "source": [
    "## On extrait $x_O$ de $x$, $D_O$ de $D$"
   ]
  },
  {
   "cell_type": "code",
   "execution_count": 242,
   "metadata": {
    "collapsed": false
   },
   "outputs": [],
   "source": [
    "## Take 1st row of R_train\n",
    "x = list(R_train[0].copy())\n",
    "\n",
    "## Save indexes of observed values\n",
    "indices = [i for i, item in enumerate(x) if item != 99]\n",
    "\n",
    "#remove missing values of first row of R_train\n",
    "x_O = [a for a in x if a != 99]\n",
    "\n",
    "# save the observed rows of D\n",
    "D_O = D[np.array(indices),:].copy() "
   ]
  },
  {
   "cell_type": "code",
   "execution_count": 237,
   "metadata": {
    "collapsed": false
   },
   "outputs": [],
   "source": [
    "def min_alpha(x_O, D_O, alpha, eta, d_alpha, T_alpha, epsilon, d_G):\n",
    "    ## Minimisation on alpha\n",
    "    for t in range(T_alpha):\n",
    "\n",
    "        ## Compute z\n",
    "        norm_G_alpha = []\n",
    "\n",
    "        for j in d_G:\n",
    "            norm_G_alpha.append(np.linalg.norm(j * alpha, ord =2))\n",
    "        coef = (np.linalg.norm(norm_G_alpha, ord = eta) ** (eta - 1))\n",
    "\n",
    "        norm_G_alpha = np.array(norm_G_alpha)\n",
    "        norm_G_alpha = np.power(norm_G_alpha, 2 - eta)\n",
    "        z = norm_G_alpha * coef\n",
    "        for i, item in enumerate(z):\n",
    "            z[i] = max(item, epsilon)\n",
    "\n",
    "        \n",
    "        ## Compute alpha\n",
    "        ksi = []\n",
    "        for j in range(d_alpha):\n",
    "            coef_ksi = 0.0\n",
    "            for i, item in enumerate(z):\n",
    "                coef_ksi += (d_G[i][j])**2 / item \n",
    "            ksi.append(coef_ksi)\n",
    "        \n",
    "        ### Pour résoudre le pb de progammation quadratique, on utilise cvxopt\n",
    "        # P = kappa * diag(ksi) + D_O.T.dot(D_O)\n",
    "        # Q = - D_O.T.dot(x_O)\n",
    "        P = kappa * np.diag(ksi) + D_O.T.dot(D_O)\n",
    "        P = cvxopt.matrix(P)\n",
    "\n",
    "        q = - D_O.T.dot(x_O)\n",
    "        q = cvxopt.matrix(q)\n",
    "\n",
    "        sol = cvxopt.solvers.qp(P,q)\n",
    "        alpha = np.ravel(sol['x'])\n",
    "    return alpha"
   ]
  },
  {
   "cell_type": "code",
   "execution_count": 243,
   "metadata": {
    "collapsed": false
   },
   "outputs": [],
   "source": [
    "alpha = min_alpha(x_O, D_O, alpha, eta, d_alpha, T_alpha, epsilon, d_G)"
   ]
  },
  {
   "cell_type": "code",
   "execution_count": 244,
   "metadata": {
    "collapsed": false
   },
   "outputs": [
    {
     "data": {
      "text/plain": [
       "array([ -4.42423503e-03,   7.73132758e-01,  -1.92842830e-03,\n",
       "         6.39557785e-01,   8.44078406e-01,   1.65145383e+00,\n",
       "        -2.02564547e+00,  -1.38509686e+00,   2.55241164e+00,\n",
       "         3.58248673e+00,   2.14158321e-01,   1.39804015e+00,\n",
       "         1.21190967e+00,   1.19172084e-02,  -7.39976438e-01,\n",
       "        -8.84294653e-01,  -2.61427167e+00,  -9.83050675e-01,\n",
       "         3.04163367e+00,  -8.99400128e-02,  -1.20852488e-03,\n",
       "        -2.16870925e-03,   3.13649581e+00,  -7.44198137e-01,\n",
       "        -2.06542475e-03,  -2.38728310e-01,   1.31282960e+00,\n",
       "        -6.23508621e-01,   8.72839144e-01,   1.22546233e+00,\n",
       "         6.13006627e-01,  -1.77600661e+00,  -3.69670619e-01,\n",
       "         1.35573352e-01,  -8.35067040e-03,   1.52061564e+00,\n",
       "         1.03232727e+00,  -5.54533526e-01,   1.93495981e+00,\n",
       "         1.61971959e-02,   2.57337339e+00,   3.58793363e-01,\n",
       "         9.93485401e-01,  -1.34915583e-02,   2.51974941e+00,\n",
       "        -1.50184326e+00,  -7.60379104e-01,  -6.34946053e-03,\n",
       "        -2.33953169e+00,   1.96795652e+00,  -3.73324806e-03,\n",
       "         9.95423825e-01,  -1.55634505e-03,   2.92112238e-01,\n",
       "         5.81061186e-04,  -1.23438750e+00,   1.34260324e-03,\n",
       "         3.61187942e+00,   5.83503443e-01,   2.55954511e+00,\n",
       "        -8.16081162e-01,  -2.78235743e+00,  -3.62693745e-01,\n",
       "         1.37973781e+00,   2.45601089e-03,  -9.03804311e-01,\n",
       "        -1.20649960e+00,   1.30891750e+00,  -1.80647121e+00,\n",
       "         2.52941218e+00,  -2.52573487e+00,  -3.44364501e+00,\n",
       "         2.31917885e+00,   7.90788519e-01,  -1.06430733e-03,\n",
       "         6.24151504e-03,   3.88599828e-02,   2.90992992e+00,\n",
       "         2.46618557e-02,   3.85173150e+00,   1.53671181e-01,\n",
       "        -1.84653565e-01,  -2.51416112e+00,   2.50556225e-03,\n",
       "        -3.46158117e-04,  -3.31410984e+00,  -8.25911544e-02,\n",
       "        -1.20379215e+00,   1.63655327e+00,  -1.15221676e+00,\n",
       "         3.84226720e+00,   5.99880020e-04,   1.74736220e-03,\n",
       "         6.31589391e-01,  -6.33251346e-04,   2.27607568e+00,\n",
       "         2.33009511e-03,  -1.21812935e+00,   1.61649442e+00,\n",
       "         2.12409211e+00])"
      ]
     },
     "execution_count": 244,
     "metadata": {},
     "output_type": "execute_result"
    }
   ],
   "source": [
    "alpha"
   ]
  },
  {
   "cell_type": "code",
   "execution_count": 247,
   "metadata": {
    "collapsed": false
   },
   "outputs": [],
   "source": [
    "def testing_model(D, alpha, nb_items_to_remove, R_test, model = 'NMF', missing_value = 99):\n",
    "    ## Define testing set\n",
    "    # On définit le testing set, on fait la prédiction et on calcule l'erreur dans 1 même boucle\n",
    "    \n",
    "    N = R_test.shape[0]\n",
    "    MSE = 0.0\n",
    "    #if model == 'NMF':\n",
    "     #   XXXXXXXX\n",
    "    if model == 'OSDL':\n",
    "        for j, jtem in enumerate(R_test):\n",
    "            ## Take 1st row of R_train\n",
    "            x = jtem.copy()\n",
    "\n",
    "            ## Save indexes of observed values\n",
    "            indices = [i for i, item in enumerate(x) if item != missing_value]\n",
    "            indices = np.array(indices)\n",
    "\n",
    "            # save the observed rows of D\n",
    "            # we will use for prediction of x_O_pred and compare it to x_O\n",
    "            D_O_test = D[np.array(indices),:].copy() \n",
    "\n",
    "            #remove missing values of first row of R_train\n",
    "            x_O_test = x[indices]\n",
    "\n",
    "            #remove nb_items_to_remove values of x_O_test\n",
    "            index_pred = sorted(np.random.choice(len(x_O_test), len(x_O_test) - nb_items_to_remove, replace = False))\n",
    "            x_O_pred = x_O_test[index_pred].copy()\n",
    "            D_O_pred = D[index_pred,:].copy()\n",
    "\n",
    "            #prediction\n",
    "            alpha_test = min_alpha(x_O_pred, D_O_pred, alpha, eta, d_alpha, T_alpha, epsilon, d_G)\n",
    "\n",
    "            MSE += mean_squared_error(x_O_test, D_O_test.dot(alpha_test))\n",
    "\n",
    "        MSE = MSE / N\n",
    "        RMSE = np.sqrt(MSE)\n",
    "    return 'MSE: ',MSE, ' RMSE: ', RMSE\n",
    "        \n",
    "    "
   ]
  },
  {
   "cell_type": "code",
   "execution_count": 248,
   "metadata": {
    "collapsed": false
   },
   "outputs": [
    {
     "data": {
      "text/plain": [
       "('MSE: ', 45.483075883048855, ' RMSE: ', 6.744114165926379)"
      ]
     },
     "execution_count": 248,
     "metadata": {},
     "output_type": "execute_result"
    }
   ],
   "source": [
    "testing_model(D, alpha, 10, R_test, model = 'OSDL', missing_value = 99)"
   ]
  },
  {
   "cell_type": "code",
   "execution_count": 34,
   "metadata": {
    "collapsed": true
   },
   "outputs": [],
   "source": [
    "## Define similarities\n",
    "\n",
    "# Normalized scalar product based similarity\n",
    "def item_similarity_1(q_i, q_j, alpha):\n",
    "    a = (q_i ).T.dot(q_j)\n",
    "    b = q_i.T.dot(q_i)\n",
    "    c = q_j.T.dot(q_j)\n",
    "    \n",
    "    s_ij = (max(0, a) / np.sqrt(b * c))** alpha\n",
    "    \n",
    "    return s_ij\n",
    "\n",
    "# Normalized Euclidian distance based similarity\n",
    "def item_similarity_2(q_i, q_j, alpha):\n",
    "    a = (q_i - q_j).T.dot(q_i - q_j)\n",
    "    b = q_i.T.dot(q_i)\n",
    "    c = q_j.T.dot(q_j)\n",
    "    \n",
    "    s_ij = (a / np.sqrt(b * c))**(- alpha)\n",
    "    \n",
    "    return s_ij"
   ]
  },
  {
   "cell_type": "code",
   "execution_count": 228,
   "metadata": {
    "collapsed": false
   },
   "outputs": [],
   "source": [
    "def group_structure(d_alpha, struct, nb_group=3):\n",
    "    if struct == 'lasso':\n",
    "        d_G = []\n",
    "        for i in range(d_alpha):\n",
    "            G = np.zeros(d_alpha)\n",
    "            G[i] = 1\n",
    "            d_G.append(G)\n",
    "            \n",
    "    if struct == 'group_lasso':\n",
    "        # fonction rand pour donner le nombre d'indices dans chaque partition de {1...d_alpha}\n",
    "        # Exemple: n paritions\n",
    "        partition = sorted(np.random.choice(d_alpha, nb_group-1, replace = False))\n",
    "\n",
    "        ## shuffle les indices\n",
    "        shuffled_indices = np.random.choice(d_alpha, d_alpha, replace = False)\n",
    "        \n",
    "        ## Création des groupes\n",
    "        x = []\n",
    "        for i, item in enumerate(partition):\n",
    "            if i == 0:\n",
    "                x.append(shuffled_indices[:item])\n",
    "            elif i == len(partition) - 1:\n",
    "                x.append(shuffled_indices[partition[i-1]:item])\n",
    "                x.append(shuffled_indices[item:])\n",
    "            else:\n",
    "                x.append(shuffled_indices[partition[i-1]: item])\n",
    "        d_G = []\n",
    "        for i, item in enumerate(x):\n",
    "            G = np.zeros(d_alpha)\n",
    "            G[item] = 1\n",
    "            d_G.append(G)\n",
    "            \n",
    "    return d_G\n",
    "    "
   ]
  },
  {
   "cell_type": "code",
   "execution_count": 230,
   "metadata": {
    "collapsed": false
   },
   "outputs": [
    {
     "data": {
      "text/plain": [
       "array([ 1.,  0.,  0.,  0.,  0.,  0.,  0.,  0.,  0.,  0.,  0.,  0.,  0.,\n",
       "        0.,  0.,  0.,  0.,  0.,  0.,  0.,  0.,  0.,  0.,  0.,  0.,  0.,\n",
       "        0.,  0.,  0.,  0.,  0.,  0.,  0.,  0.,  0.,  0.,  0.,  0.,  0.,\n",
       "        0.,  0.,  0.,  0.,  0.,  0.,  0.,  0.,  0.,  0.,  0.,  0.,  0.,\n",
       "        0.,  0.,  0.,  0.,  0.,  0.,  0.,  0.,  0.,  0.,  0.,  0.,  0.,\n",
       "        0.,  0.,  0.,  0.,  0.,  0.,  0.,  0.,  0.,  0.,  0.,  0.,  0.,\n",
       "        0.,  0.,  0.,  0.,  0.,  0.,  0.,  0.,  0.,  0.,  0.,  0.,  0.,\n",
       "        0.,  0.,  0.,  0.,  0.,  0.,  0.,  0.,  0.])"
      ]
     },
     "execution_count": 230,
     "metadata": {},
     "output_type": "execute_result"
    }
   ],
   "source": [
    "group_structure(d_alpha, struct='lasso', nb_group=3)[0]"
   ]
  },
  {
   "cell_type": "code",
   "execution_count": null,
   "metadata": {
    "collapsed": true
   },
   "outputs": [],
   "source": []
  }
 ],
 "metadata": {
  "kernelspec": {
   "display_name": "Python 2",
   "language": "python",
   "name": "python2"
  },
  "language_info": {
   "codemirror_mode": {
    "name": "ipython",
    "version": 2
   },
   "file_extension": ".py",
   "mimetype": "text/x-python",
   "name": "python",
   "nbconvert_exporter": "python",
   "pygments_lexer": "ipython2",
   "version": "2.7.11"
  }
 },
 "nbformat": 4,
 "nbformat_minor": 0
}
