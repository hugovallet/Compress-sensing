{
 "cells": [
  {
   "cell_type": "markdown",
   "metadata": {},
   "source": [
    "# Compressed sensing project : study of non-negative matrix factorization and online dictionary learning\n",
    "\n",
    "## First part : non-negative matrix factorization\n",
    "\n",
    "We wanted here to study Seung & Lee's \"Algorithms for Non-negative Matrix Factorization\" paper. They propose two types of non-negative factorization (NMF) : one that minimizes a least-squares distance and one that minimizes the Kullback-Leibler divergence (in the case that our initialization matrix is a probability matrix).\n",
    "\n"
   ]
  },
  {
   "cell_type": "code",
   "execution_count": 3,
   "metadata": {
    "collapsed": true
   },
   "outputs": [],
   "source": [
    "import numpy as np\n",
    "import scipy.linalg"
   ]
  },
  {
   "cell_type": "markdown",
   "metadata": {},
   "source": [
    "__Least square NMF__\n",
    "\n",
    "Here is the problem setting:\n",
    "\n",
    "Given a matrix $V$ living in $\\mathbb{R}^{n,m}$ we want to find matrices $W\\in\\mathbb{R}^{n,k}$ and $H\\in\\mathbb{R}^{k,m}$ solutions of the following minimization problem:\n",
    "\n",
    "$$\n",
    "\\text{minimize }||V-WH||^2\\text{ under constraints } W,H>0\n",
    "$$\n"
   ]
  },
  {
   "cell_type": "markdown",
   "metadata": {},
   "source": [
    "The algorithm, similarly to a classical gradient descent, will start with random W and H. Then we will apply the following update rules allowing us to converge to a local minima (the problem is non convex w.r.t. W,H).\n",
    "\n",
    "$$\n",
    "H \\leftarrow H\\odot(W^TV)\\oslash(W^TWH)\n",
    "$$\n",
    "\n",
    "$$\n",
    "W \\leftarrow W\\odot(VH^T)\\oslash(WHH^T)\n",
    "$$\n",
    "\n",
    "With $\\odot$ standing for element-wise product and $\\oslash$ standing for element-wise division"
   ]
  },
  {
   "cell_type": "code",
   "execution_count": 19,
   "metadata": {
    "collapsed": true
   },
   "outputs": [],
   "source": [
    "def update_h(V,W,H):\n",
    "    factor1 = np.dot(W.T,V)\n",
    "    factor2 = np.dot(np.dot(W.T,W),H)\n",
    "    return H*factor1/factor2"
   ]
  },
  {
   "cell_type": "code",
   "execution_count": 20,
   "metadata": {
    "collapsed": true
   },
   "outputs": [],
   "source": [
    "def update_w(V,W,H):\n",
    "    factor1 = np.dot(V,H.T)\n",
    "    factor2 = np.dot(W,np.dot(H,H.T))\n",
    "    return W*factor1/factor2\n",
    "        "
   ]
  },
  {
   "cell_type": "code",
   "execution_count": 21,
   "metadata": {
    "collapsed": true
   },
   "outputs": [],
   "source": [
    "def error(V,W,H):\n",
    "    return np.norm(V-np.dot(W,H))"
   ]
  },
  {
   "cell_type": "code",
   "execution_count": 22,
   "metadata": {
    "collapsed": true
   },
   "outputs": [],
   "source": [
    "def solver(V,W,H,t=100):\n",
    "    \n",
    "    for i in range(t):\n",
    "        W_new = update_w(V,W,H)\n",
    "        H_new = update_h(V,W,H)\n",
    "        W = W_new\n",
    "        H = H_new\n",
    "        print error(V,W,H)"
   ]
  },
  {
   "cell_type": "code",
   "execution_count": null,
   "metadata": {
    "collapsed": true
   },
   "outputs": [],
   "source": []
  }
 ],
 "metadata": {
  "kernelspec": {
   "display_name": "Python 2",
   "language": "python",
   "name": "python2"
  },
  "language_info": {
   "codemirror_mode": {
    "name": "ipython",
    "version": 2
   },
   "file_extension": ".py",
   "mimetype": "text/x-python",
   "name": "python",
   "nbconvert_exporter": "python",
   "pygments_lexer": "ipython2",
   "version": "2.7.10"
  }
 },
 "nbformat": 4,
 "nbformat_minor": 0
}
