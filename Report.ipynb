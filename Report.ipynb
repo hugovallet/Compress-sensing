{
 "cells": [
  {
   "cell_type": "markdown",
   "metadata": {},
   "source": [
    "# Compressed sensing project : study of non-negative matrix factorization and online dictionary learning\n",
    "\n"
   ]
  },
  {
   "cell_type": "markdown",
   "metadata": {},
   "source": [
    "Students : Hugo Vallet, Guillaume Carbajal\n",
    "\n",
    "# ---------------------------------------------------------------------------------------------------------------\n",
    "# Summary :\n",
    "## I / Introduction\n",
    "## II / Some definitions\n",
    "## III / The Jester dataset\n",
    "## III / Implementation and testing of Seung & Lee paper \"Non-negative Matrix Factorization\"\n",
    "#### With the Euclidian distance as metric\n",
    "#### With the Kullback Leibler divergence as metric\n",
    "## IV / Study of the theorical bound for NMF proposed by Maurer & Pontil\n",
    "## V / Going further than NMF : group-structured sparse online matrix factorization\n",
    "\n",
    "# ---------------------------------------------------------------------------------------------------------------\n"
   ]
  },
  {
   "cell_type": "markdown",
   "metadata": {},
   "source": [
    "# I / Introduction\n",
    "\n",
    "There are 2 types of recommender systems:\n",
    "\n",
    "### 1. Content-based approach\n",
    "They make profiles of users by identifying characteristic features about them: city, age, sex, etc. They also make profiles of items: type of product, product description, etc. However, there are 2 main limitations to this approach: on the one hand, it is a laborious task to collect all this information; on the other hand, collecting this information is a privacy-related problem.\n",
    "\n",
    "### 2. Collaborative filtering\n",
    "These systems only use features of past activities of the users: transaction history (such as Amazon does), user satisfaction expressed in ratings. Collaborative filtering algorithms lie in the following hypothesis: a group of people who have similar tastes in the past might also agree on their tastes in the future. Therefore,these algorithms seek to identify relationships between items and users.\n",
    "\n",
    "Since the early 1990s, several collaborative filtering-related papers were published to tackle the problem. The Netflix Prize, held from 2007 to 2009, boosted the interested in these algorithms. \n",
    "\n",
    "Nowadays, most of these algorithms rely on 2 mains parts: Matrix Factorization (MF) and Neighbor-based Approaches. Our project is mainly focused on MF.\n",
    "\n",
    "# II / Some definitions\n",
    "The problem of Collaborative Filetring can be expressed as follows. We have:\n",
    "- $U$: set of $N$ users\n",
    "- $I$: set of $M$ items\n",
    "- $R$: ratings of items by users\n",
    "Therefore, $R$ is a matrix in which users are represented as rows and items are represented as columns. The idea of MF is to approximate by the product of 2 matrices $P$ and $Q$:\n",
    "$$ R \\approx P Q $$\n",
    "with $P$ is of size $N$ x $K$ and $Q$ is of size $K$ x $M$\n",
    "\n",
    "$P$ represents the features matrix of the users and $Q$ represents the features matrix of the items. Usually $K \\ll N,M$ which decreases the number of parameters needed to learn a model from $NM$ to $NK + KM$. The process of prediction comes as follows:\n",
    "1. We train a matrix factorization to obtain the 2 matrices $P$ and $Q$\n",
    "2. To predict a rating $ \\hat{r_{ui}}$ for a given item $i$ for a user $u$, we just take the $u^{th}$ row of $P$ and apply the dot product with the $i^{th}$ of $Q$:\n",
    "$$ \\hat{r_{ui}} = \\sum \\limits_{k=1}^{K} p_{uk} q_{ki} = \\mathbf{p_{u}} \\mathbf{q_{i}} $$\n",
    "\n",
    "This method mainly applies for batch methods: we assume that we have all the set of users to make our predictions of new $\\hat{r_{ui}}$. However, we will see in part IV that we can't apply the same reasoning for online methods.\n",
    "\n",
    "The intuition behind this statement is related to what is called $\\it Dictionary$  $\\it Learning$: let us consider a set $X = (x_1, . . . , x_N) ∈ \\mathbb{R}^{M×N}$ of $N$ signals of dimension $M$. Dictionary learning is a matrix factorization problem that aims to represent these signals as linear combinations of dictionary elements, denoted here by the columns of a matrix $D = (d_1, . . . , d_K) ∈ \\mathbb{R}^{M×K}$. More precisely, the dictionary $D$ is learned along with a matrix of decomposition coefficients $A = (\\alpha_1, . . . , \\alpha_n) \\in\n",
    "\\mathbb{R}^{K×N}$, so that $x_i \\approx D \\alpha_i $ for every signal $x_i$ and for a given loss metrics. For example, PCA can be seen as a $\\it Dictionary$ $\\it Learning$ task, in which the components of the dictionary are orthogonal.\n",
    "\n",
    "In order to measure the performance of our models with a validation set $V$, 2 main metrics are used:\n",
    "- the Root Mean-Square Error:  $RMSE = \\sqrt{\\frac{1}{|V|} \\sum (\\hat{r_{ui}} - r_{ui})^2}$\n",
    "- the Absolute Mean Error: $AME = \\{\\frac{1}{|V|} \\sum |\\hat{r_{ui}} - r_{ui}|$\n",
    "\n",
    "In this project, we will only focuse on the RMSE, as it is the metric used by Seung&Lee and by Scabo & Lorincz (the 2 main papers we studied).\n",
    "\n",
    "We define our $\\it Dictionary$ $\\it Learning$ project in 2 different tasks:\n",
    "1. Analyzing a batch method for collaborative filtering: Non Negative Matrix Factorization (NMF)\n",
    "2. Analyzing an online method: Online Structured Sparse Dictionary Learning (OSDL)\n"
   ]
  },
  {
   "cell_type": "code",
   "execution_count": 15,
   "metadata": {
    "collapsed": false
   },
   "outputs": [],
   "source": [
    "import numpy as np\n",
    "import pandas as pd\n",
    "import cvxopt"
   ]
  },
  {
   "cell_type": "code",
   "execution_count": 36,
   "metadata": {
    "collapsed": true
   },
   "outputs": [],
   "source": [
    "%matplotlib inline\n",
    "import matplotlib.pyplot as plt\n",
    "import numpy as np\n",
    "import scipy.linalg as lin\n",
    "from time import time"
   ]
  },
  {
   "cell_type": "code",
   "execution_count": 17,
   "metadata": {
    "collapsed": true
   },
   "outputs": [],
   "source": [
    "from sklearn.metrics import mean_squared_error"
   ]
  },
  {
   "cell_type": "markdown",
   "metadata": {},
   "source": [
    "# III / The Jester dataset\n",
    "\n",
    "For our 2 task, we will use the Jester dataset, which consists of 100 jokes rated by 24,983 users."
   ]
  },
  {
   "cell_type": "code",
   "execution_count": 18,
   "metadata": {
    "collapsed": false
   },
   "outputs": [
    {
     "data": {
      "text/html": [
       "<div>\n",
       "<table border=\"1\" class=\"dataframe\">\n",
       "  <thead>\n",
       "    <tr style=\"text-align: right;\">\n",
       "      <th></th>\n",
       "      <th>1</th>\n",
       "      <th>2</th>\n",
       "      <th>3</th>\n",
       "      <th>4</th>\n",
       "      <th>5</th>\n",
       "      <th>6</th>\n",
       "      <th>7</th>\n",
       "      <th>8</th>\n",
       "      <th>9</th>\n",
       "      <th>10</th>\n",
       "      <th>...</th>\n",
       "      <th>91</th>\n",
       "      <th>92</th>\n",
       "      <th>93</th>\n",
       "      <th>94</th>\n",
       "      <th>95</th>\n",
       "      <th>96</th>\n",
       "      <th>97</th>\n",
       "      <th>98</th>\n",
       "      <th>99</th>\n",
       "      <th>100</th>\n",
       "    </tr>\n",
       "  </thead>\n",
       "  <tbody>\n",
       "    <tr>\n",
       "      <th>0</th>\n",
       "      <td>-7.82</td>\n",
       "      <td>8.79</td>\n",
       "      <td>-9.66</td>\n",
       "      <td>-8.16</td>\n",
       "      <td>-7.52</td>\n",
       "      <td>-8.50</td>\n",
       "      <td>-9.85</td>\n",
       "      <td>4.17</td>\n",
       "      <td>-8.98</td>\n",
       "      <td>-4.76</td>\n",
       "      <td>...</td>\n",
       "      <td>2.82</td>\n",
       "      <td>99.00</td>\n",
       "      <td>99.00</td>\n",
       "      <td>99.00</td>\n",
       "      <td>99.00</td>\n",
       "      <td>99.00</td>\n",
       "      <td>-5.63</td>\n",
       "      <td>99.00</td>\n",
       "      <td>99.00</td>\n",
       "      <td>99.00</td>\n",
       "    </tr>\n",
       "    <tr>\n",
       "      <th>1</th>\n",
       "      <td>4.08</td>\n",
       "      <td>-0.29</td>\n",
       "      <td>6.36</td>\n",
       "      <td>4.37</td>\n",
       "      <td>-2.38</td>\n",
       "      <td>-9.66</td>\n",
       "      <td>-0.73</td>\n",
       "      <td>-5.34</td>\n",
       "      <td>8.88</td>\n",
       "      <td>9.22</td>\n",
       "      <td>...</td>\n",
       "      <td>2.82</td>\n",
       "      <td>-4.95</td>\n",
       "      <td>-0.29</td>\n",
       "      <td>7.86</td>\n",
       "      <td>-0.19</td>\n",
       "      <td>-2.14</td>\n",
       "      <td>3.06</td>\n",
       "      <td>0.34</td>\n",
       "      <td>-4.32</td>\n",
       "      <td>1.07</td>\n",
       "    </tr>\n",
       "    <tr>\n",
       "      <th>2</th>\n",
       "      <td>99.00</td>\n",
       "      <td>99.00</td>\n",
       "      <td>99.00</td>\n",
       "      <td>99.00</td>\n",
       "      <td>9.03</td>\n",
       "      <td>9.27</td>\n",
       "      <td>9.03</td>\n",
       "      <td>9.27</td>\n",
       "      <td>99.00</td>\n",
       "      <td>99.00</td>\n",
       "      <td>...</td>\n",
       "      <td>99.00</td>\n",
       "      <td>99.00</td>\n",
       "      <td>99.00</td>\n",
       "      <td>9.08</td>\n",
       "      <td>99.00</td>\n",
       "      <td>99.00</td>\n",
       "      <td>99.00</td>\n",
       "      <td>99.00</td>\n",
       "      <td>99.00</td>\n",
       "      <td>99.00</td>\n",
       "    </tr>\n",
       "    <tr>\n",
       "      <th>3</th>\n",
       "      <td>99.00</td>\n",
       "      <td>8.35</td>\n",
       "      <td>99.00</td>\n",
       "      <td>99.00</td>\n",
       "      <td>1.80</td>\n",
       "      <td>8.16</td>\n",
       "      <td>-2.82</td>\n",
       "      <td>6.21</td>\n",
       "      <td>99.00</td>\n",
       "      <td>1.84</td>\n",
       "      <td>...</td>\n",
       "      <td>99.00</td>\n",
       "      <td>99.00</td>\n",
       "      <td>99.00</td>\n",
       "      <td>0.53</td>\n",
       "      <td>99.00</td>\n",
       "      <td>99.00</td>\n",
       "      <td>99.00</td>\n",
       "      <td>99.00</td>\n",
       "      <td>99.00</td>\n",
       "      <td>99.00</td>\n",
       "    </tr>\n",
       "    <tr>\n",
       "      <th>4</th>\n",
       "      <td>8.50</td>\n",
       "      <td>4.61</td>\n",
       "      <td>-4.17</td>\n",
       "      <td>-5.39</td>\n",
       "      <td>1.36</td>\n",
       "      <td>1.60</td>\n",
       "      <td>7.04</td>\n",
       "      <td>4.61</td>\n",
       "      <td>-0.44</td>\n",
       "      <td>5.73</td>\n",
       "      <td>...</td>\n",
       "      <td>5.19</td>\n",
       "      <td>5.58</td>\n",
       "      <td>4.27</td>\n",
       "      <td>5.19</td>\n",
       "      <td>5.73</td>\n",
       "      <td>1.55</td>\n",
       "      <td>3.11</td>\n",
       "      <td>6.55</td>\n",
       "      <td>1.80</td>\n",
       "      <td>1.60</td>\n",
       "    </tr>\n",
       "  </tbody>\n",
       "</table>\n",
       "<p>5 rows × 100 columns</p>\n",
       "</div>"
      ],
      "text/plain": [
       "     1      2      3      4     5     6     7     8      9      10   ...    \\\n",
       "0  -7.82   8.79  -9.66  -8.16 -7.52 -8.50 -9.85  4.17  -8.98  -4.76  ...     \n",
       "1   4.08  -0.29   6.36   4.37 -2.38 -9.66 -0.73 -5.34   8.88   9.22  ...     \n",
       "2  99.00  99.00  99.00  99.00  9.03  9.27  9.03  9.27  99.00  99.00  ...     \n",
       "3  99.00   8.35  99.00  99.00  1.80  8.16 -2.82  6.21  99.00   1.84  ...     \n",
       "4   8.50   4.61  -4.17  -5.39  1.36  1.60  7.04  4.61  -0.44   5.73  ...     \n",
       "\n",
       "     91     92     93     94     95     96     97     98     99     100  \n",
       "0   2.82  99.00  99.00  99.00  99.00  99.00  -5.63  99.00  99.00  99.00  \n",
       "1   2.82  -4.95  -0.29   7.86  -0.19  -2.14   3.06   0.34  -4.32   1.07  \n",
       "2  99.00  99.00  99.00   9.08  99.00  99.00  99.00  99.00  99.00  99.00  \n",
       "3  99.00  99.00  99.00   0.53  99.00  99.00  99.00  99.00  99.00  99.00  \n",
       "4   5.19   5.58   4.27   5.19   5.73   1.55   3.11   6.55   1.80   1.60  \n",
       "\n",
       "[5 rows x 100 columns]"
      ]
     },
     "execution_count": 18,
     "metadata": {},
     "output_type": "execute_result"
    }
   ],
   "source": [
    "xl = pd.ExcelFile('jester-data-1.xls')\n",
    "xl.sheet_names\n",
    "df = xl.parse('jester-data-1-new', header = None)\n",
    "nb_jokes_user = df[0]\n",
    "del df[0]\n",
    "df.head()"
   ]
  },
  {
   "cell_type": "code",
   "execution_count": 12,
   "metadata": {
    "collapsed": false
   },
   "outputs": [
    {
     "name": "stdout",
     "output_type": "stream",
     "text": [
      "24983 users\n",
      "100 items\n"
     ]
    }
   ],
   "source": [
    "n_users = df.shape[0]\n",
    "n_items = df.shape[1]\n",
    "print str(n_users) + ' users'\n",
    "print str(n_items) + ' items'"
   ]
  },
  {
   "cell_type": "markdown",
   "metadata": {},
   "source": [
    "The missing values (non rated elements of the rating matrix) are denoted by the value 99."
   ]
  },
  {
   "cell_type": "code",
   "execution_count": 13,
   "metadata": {
    "collapsed": false
   },
   "outputs": [
    {
     "data": {
      "text/plain": [
       "array([[ -7.82,   8.79,  -9.66, ...,  99.  ,  99.  ,  99.  ],\n",
       "       [  4.08,  -0.29,   6.36, ...,   0.34,  -4.32,   1.07],\n",
       "       [ 99.  ,  99.  ,  99.  , ...,  99.  ,  99.  ,  99.  ],\n",
       "       ..., \n",
       "       [ 99.  ,  99.  ,  99.  , ...,  99.  ,  99.  ,  99.  ],\n",
       "       [ 99.  ,  99.  ,  99.  , ...,  99.  ,  99.  ,  99.  ],\n",
       "       [  2.43,   2.67,  -3.98, ...,  99.  ,  99.  ,  99.  ]])"
      ]
     },
     "execution_count": 13,
     "metadata": {},
     "output_type": "execute_result"
    }
   ],
   "source": [
    "ratings = np.array(df)\n",
    "ratings"
   ]
  },
  {
   "cell_type": "markdown",
   "metadata": {},
   "source": [
    "Then we seperated the ratings matrix into 3 matrices: $R_{train}$, $R_{val}$ and $R_{test}$."
   ]
  },
  {
   "cell_type": "code",
   "execution_count": 14,
   "metadata": {
    "collapsed": true
   },
   "outputs": [],
   "source": [
    "## Partition the ratings into train / validation set\n",
    "R_train = ratings[:10000]\n",
    "R_val = ratings[10000:20000]\n",
    "R_test = ratings[20000:]"
   ]
  },
  {
   "cell_type": "markdown",
   "metadata": {},
   "source": [
    "# ---------------------------------------------------------------------------------------------------------------\n",
    "## IV / Non-negative Matrix Factorization (NMF)\n",
    "\n",
    "We wanted here to study Seung & Lee's \"Algorithms for Non-negative Matrix Factorization\" paper. They propose two types of non-negative factorization (NMF) : one that minimizes a least-squares distance and one that minimizes the Kullback-Leibler divergence (in the case that our initialization matrix is a probability matrix)."
   ]
  },
  {
   "cell_type": "markdown",
   "metadata": {},
   "source": [
    "## Least square NMF\n",
    "\n",
    "Here is the problem setting:\n",
    "\n",
    "Given a matrix $V$ living in $\\mathbb{R}^{n,m}$ we want to find matrices $W\\in\\mathbb{R}^{n,k}$ and $H\\in\\mathbb{R}^{k,m}$ solutions of the following minimization problem:\n",
    "\n",
    "$$\n",
    "\\text{minimize }||V-WH||_2^2\\text{ under constraints } W,H>0\n",
    "$$\n"
   ]
  },
  {
   "cell_type": "markdown",
   "metadata": {},
   "source": [
    "The algorithm, similarly to a classical gradient descent, will start with random W and H. Then we will apply the following update rules allowing us to converge to a local minima (the problem is non convex w.r.t. W,H).\n",
    "\n",
    "$$\n",
    "H \\leftarrow H\\odot\\frac{W^TV}{W^TWH}\n",
    "$$\n",
    "\n",
    "$$\n",
    "W \\leftarrow W\\odot\\frac{VH^T}{WHH^T}\n",
    "$$\n",
    "\n",
    "With $\\odot$ standing for element-wise product and $-$ standing for element-wise division."
   ]
  },
  {
   "cell_type": "code",
   "execution_count": 4,
   "metadata": {
    "collapsed": true
   },
   "outputs": [],
   "source": [
    "def non_negative_threshold(Z):\n",
    "    neg_coefs = Z<0\n",
    "    Z[neg_coefs] = 0\n",
    "    return Z"
   ]
  },
  {
   "cell_type": "code",
   "execution_count": 19,
   "metadata": {
    "collapsed": false
   },
   "outputs": [],
   "source": [
    "def ls_solver(V,W,H,t=100,verbose=False):\n",
    "    \n",
    "    def update_h(V,W,H):\n",
    "        factor1 = np.dot(W.T,V)\n",
    "        factor2 = np.dot(np.dot(W.T,W),H)\n",
    "        return H*factor1/factor2\n",
    "\n",
    "    def update_w(V,W,H):\n",
    "        factor1 = np.dot(V,H.T)\n",
    "        factor2 = np.dot(W,np.dot(H,H.T))\n",
    "        return W*factor1/factor2\n",
    "\n",
    "    def error(V,W,H):\n",
    "        return lin.norm(V-np.dot(W,H))\n",
    "    \n",
    "    \n",
    "    \n",
    "    err=[]\n",
    "    for i in range(t):\n",
    "        W_new = update_w(V,W,H)\n",
    "        W = W_new\n",
    "        H_new = update_h(V,W,H)\n",
    "        H = H_new\n",
    "        if verbose==True:\n",
    "            print error(V,W,H)\n",
    "        err.append(error(V,W,H))\n",
    "    \n",
    "    return W,H,err"
   ]
  },
  {
   "cell_type": "markdown",
   "metadata": {},
   "source": [
    "The first thing to do is to slightly modify Rtrain so that all elements are non negative, and that missing values are \"far\" from observed values: add 20 to all elements and put missing values to 0."
   ]
  },
  {
   "cell_type": "code",
   "execution_count": 20,
   "metadata": {
    "collapsed": false
   },
   "outputs": [],
   "source": [
    "R_train\n",
    "R_train = R_train + 20\n",
    "R_train[R_train == 119] = 0"
   ]
  },
  {
   "cell_type": "markdown",
   "metadata": {},
   "source": [
    "In order to measure our predictions on Rtrain, we extract a dense matrix, i.e. a submatrix of Rtrain with no missing values inside."
   ]
  },
  {
   "cell_type": "code",
   "execution_count": 21,
   "metadata": {
    "collapsed": false
   },
   "outputs": [
    {
     "name": "stdout",
     "output_type": "stream",
     "text": [
      "0\n",
      "10\n",
      "20\n",
      "30\n",
      "40\n",
      "50\n",
      "60\n",
      "70\n"
     ]
    }
   ],
   "source": [
    "p = R_train.shape[1]\n",
    "for i in range(p):\n",
    "    non_zero_line = R_train[:,i].nonzero()[0]\n",
    "    R_train = R_train[non_zero_line]\n",
    "    if i % 10 == 0:\n",
    "        print(i)\n",
    "    if len(R_train[:,i].nonzero()[0]) < 4000:\n",
    "        break"
   ]
  },
  {
   "cell_type": "code",
   "execution_count": 22,
   "metadata": {
    "collapsed": false
   },
   "outputs": [
    {
     "data": {
      "text/plain": [
       "(3112L, 100L)"
      ]
     },
     "execution_count": 22,
     "metadata": {},
     "output_type": "execute_result"
    }
   ],
   "source": [
    "R_train.shape"
   ]
  },
  {
   "cell_type": "code",
   "execution_count": 23,
   "metadata": {
    "collapsed": true
   },
   "outputs": [],
   "source": [
    "R_train = R_train[:,:70]"
   ]
  },
  {
   "cell_type": "markdown",
   "metadata": {},
   "source": [
    "Then, we remove 10 item ratings per user, make our predictions on the matrix and compare it to the dense matrix Rtrain"
   ]
  },
  {
   "cell_type": "code",
   "execution_count": 24,
   "metadata": {
    "collapsed": true
   },
   "outputs": [],
   "source": [
    "R_test = R_train.copy()\n",
    "nb_items_to_remove = 10\n",
    "for j, jtem in enumerate(R_train):\n",
    "    ## Take 1st row of R_train\n",
    "    x = jtem.copy()\n",
    "\n",
    "    #remove nb_items_to_remove values of x_O_test\n",
    "    index_pred = sorted(np.random.choice(len(x), nb_items_to_remove, replace = False))\n",
    "    x[index_pred] = 0\n",
    "\n",
    "    R_test[j] = x"
   ]
  },
  {
   "cell_type": "code",
   "execution_count": 25,
   "metadata": {
    "collapsed": false
   },
   "outputs": [
    {
     "data": {
      "text/plain": [
       "array([[  0.  ,  19.71,  26.36, ...,  21.12,  20.78,  27.52],\n",
       "       [ 13.83,  16.46,  20.44, ...,  11.02,  18.06,   0.  ],\n",
       "       [ 26.84,   0.  ,  29.17, ...,  15.78,  10.19,  17.91],\n",
       "       ..., \n",
       "       [ 27.04,  27.14,  28.69, ...,   0.  ,  27.77,  23.3 ],\n",
       "       [ 21.8 ,  19.81,  17.33, ...,  23.98,  18.93,   0.  ],\n",
       "       [ 23.74,  23.93,  23.4 , ...,  24.81,  24.47,   0.  ]])"
      ]
     },
     "execution_count": 25,
     "metadata": {},
     "output_type": "execute_result"
    }
   ],
   "source": [
    "R_test"
   ]
  },
  {
   "cell_type": "code",
   "execution_count": 26,
   "metadata": {
    "collapsed": false
   },
   "outputs": [
    {
     "data": {
      "text/plain": [
       "array([[ 24.08,  19.71,  26.36, ...,  21.12,  20.78,  27.52],\n",
       "       [ 13.83,  16.46,  20.44, ...,  11.02,  18.06,  13.01],\n",
       "       [ 26.84,  23.16,  29.17, ...,  15.78,  10.19,  17.91],\n",
       "       ..., \n",
       "       [ 27.04,  27.14,  28.69, ...,  19.32,  27.77,  23.3 ],\n",
       "       [ 21.8 ,  19.81,  17.33, ...,  23.98,  18.93,  19.27],\n",
       "       [ 23.74,  23.93,  23.4 , ...,  24.81,  24.47,  24.85]])"
      ]
     },
     "execution_count": 26,
     "metadata": {},
     "output_type": "execute_result"
    }
   ],
   "source": [
    "R_train"
   ]
  },
  {
   "cell_type": "markdown",
   "metadata": {},
   "source": [
    "### Test of convergence of the algorithm\n",
    "\n",
    "The algorithm, according to seung & Lee, is able to converge to a local minima. Here "
   ]
  },
  {
   "cell_type": "code",
   "execution_count": 55,
   "metadata": {
    "collapsed": false
   },
   "outputs": [
    {
     "name": "stdout",
     "output_type": "stream",
     "text": [
      "Total time ellapsed :  5.20599985123\n"
     ]
    }
   ],
   "source": [
    "V = R_test.copy()\n",
    "n,m = V.shape\n",
    "k = 70 #components\n",
    "iterations = 500\n",
    "H = non_negative_threshold(15+np.random.randn(k, m)) #Initialize matrices randomly, respecting the non negativity constraints\n",
    "W = non_negative_threshold(15+np.random.randn(n,k)) #Initialize matrices randomly, respecting the non negativity constraints\n",
    "start = time()\n",
    "W,H,err = ls_solver(V,W,H,iterations)\n",
    "end = time()\n",
    "print \"Total time ellapsed : \", end-start"
   ]
  },
  {
   "cell_type": "code",
   "execution_count": 56,
   "metadata": {
    "collapsed": false
   },
   "outputs": [
    {
     "data": {
      "text/plain": [
       "<matplotlib.text.Text at 0x2097d3c8>"
      ]
     },
     "execution_count": 56,
     "metadata": {},
     "output_type": "execute_result"
    },
    {
     "data": {
      "image/png": "[encoded data removed]",
      "text/plain": [
       "<matplotlib.figure.Figure at 0xdc923c8>"
      ]
     },
     "metadata": {},
     "output_type": "display_data"
    }
   ],
   "source": [
    "plt.plot(np.arange(len(err)),err)\n",
    "plt.xlabel(\"Iteration\")\n",
    "plt.ylabel(\"Euclidian distance\")\n",
    "plt.title(\"Evolution of the distance between V and WH\")"
   ]
  },
  {
   "cell_type": "code",
   "execution_count": 61,
   "metadata": {
    "collapsed": false
   },
   "outputs": [
    {
     "name": "stdout",
     "output_type": "stream",
     "text": [
      "RMSE after the training of a Dictionary with euclidian distance :  8.74967277281\n",
      "RMSE with purely random dictionary :  12.0439296406\n"
     ]
    }
   ],
   "source": [
    "MSE = mean_squared_error(R_train, W.dot(H))\n",
    "RMSE = np.sqrt(MSE)\n",
    "print \"RMSE after the training of a Dictionary with euclidian distance : \", RMSE\n",
    "\n",
    "H2 = non_negative_threshold(np.random.randn(k, m))\n",
    "W2 = non_negative_threshold(np.random.randn(n,k))\n",
    "MSE = mean_squared_error(R_train, W2.dot(H2))\n",
    "RMSE = np.sqrt(MSE)\n",
    "RMSE\n",
    "print \"RMSE with purely random dictionary : \", RMSE"
   ]
  },
  {
   "cell_type": "markdown",
   "metadata": {},
   "source": [
    "### Comments:\n",
    "- Convergence is fast: it converges after 200 iterations.\n",
    "- The running time is also fast: 5.75 s\n",
    "- RMSE seems good as random predictions give a worse RMSE."
   ]
  },
  {
   "cell_type": "markdown",
   "metadata": {},
   "source": [
    "## Kullback-Leibler NMF\n",
    "\n",
    "Here the problem setting is similar, the only diference resides in the distance minimized:\n",
    "\n",
    "Given a matrix $V$ living in $\\mathbb{R}^{n,m}$ we want to find matrices $W\\in\\mathbb{R}^{n,k}$ and $H\\in\\mathbb{R}^{k,m}$ solutions of the following minimization problem:\n",
    "\n",
    "$$\n",
    "\\text{minimize }KL(V,WH)\\text{ under constraints } W,H>0\n",
    "$$\n"
   ]
  },
  {
   "cell_type": "markdown",
   "metadata": {},
   "source": [
    "Here again, Lee and Seung propose a multiplicative update rule\n",
    "\n",
    "$$\n",
    "H \\leftarrow H\\odot \\frac{W^T\\frac{V}{WH}}{W^T\\mathbb{1}^{n,m}}\n",
    "$$\n",
    "\n",
    "$$\n",
    "W \\leftarrow W\\odot \\frac{\\frac{V}{WH}H^T}{\\mathbb{1}^{n,m}H^T}\n",
    "$$\n",
    "\n",
    "with $\\odot$ the element-wise matrix product, $-$ the element-wise division and $\\mathbb{1}^{n,m}$ the real-valued matrix of size $(n,m)$ with all its coefficients equal to 1.\n",
    "\n",
    "_Note for the reader : the updates rules here are not exactly the same form as want we can read in Seung & Lee's paper. In fact, to avoid the for-loops to compute the summing terms in Seung & Lee's updates rules, one can use the following paper_ http://sig.umd.edu/publications/Tjoa_ICASSP2_201003.pdf _, formula (5), for the Kullback divergence based udpdate. In all cases, with the notations we used, it is trivial to see that the two formulations are strictly the same !_"
   ]
  },
  {
   "cell_type": "code",
   "execution_count": 58,
   "metadata": {
    "collapsed": true
   },
   "outputs": [],
   "source": [
    "def kl_solver(V,W,H,t=100,verbose=False):\n",
    "    \n",
    "    def update_h(V,W,H):\n",
    "        n,m = V.shape\n",
    "        unit_vector = np.ones((n,m))\n",
    "        factor1 = np.dot(W.T,V/np.dot(W,H))\n",
    "        factor2 = np.dot(W.T,unit_vector)\n",
    "        return H*factor1/factor2\n",
    "\n",
    "    def update_w(V,W,H):\n",
    "        n,m = V.shape\n",
    "        unit_vector = np.ones((n,m))\n",
    "        factor1 = np.dot(V/np.dot(W,H),H.T)\n",
    "        factor2 = np.dot(unit_vector,H.T)\n",
    "        return W*factor1/factor2\n",
    "    \n",
    "\n",
    "    def error(V,W,H):\n",
    "        return lin.norm(V-np.dot(W,H))\n",
    "    \n",
    "    \n",
    "    err=[]\n",
    "    for i in range(t):\n",
    "        W_new = update_w(V,W,H)\n",
    "        W = W_new\n",
    "        H_new = update_h(V,W,H)\n",
    "        H = H_new\n",
    "        if verbose==True:\n",
    "            print error(V,W,H)\n",
    "        err.append(error(V,W,H))\n",
    "    \n",
    "    return W,H,err"
   ]
  },
  {
   "cell_type": "code",
   "execution_count": 59,
   "metadata": {
    "collapsed": false
   },
   "outputs": [
    {
     "name": "stdout",
     "output_type": "stream",
     "text": [
      "Total time ellapsed :  9.00300002098\n"
     ]
    }
   ],
   "source": [
    "H = non_negative_threshold(15+np.random.randn(k, m)) #Same initialization as before\n",
    "W = non_negative_threshold(15+np.random.randn(n, k)) #Same initialization as before\n",
    "\n",
    "start = time()\n",
    "W,H,err = kl_solver(V,W,H,iterations)\n",
    "end = time()\n",
    "print \"Total time ellapsed : \", end-start"
   ]
  },
  {
   "cell_type": "code",
   "execution_count": 60,
   "metadata": {
    "collapsed": false
   },
   "outputs": [
    {
     "data": {
      "text/plain": [
       "<matplotlib.text.Text at 0x26050d30>"
      ]
     },
     "execution_count": 60,
     "metadata": {},
     "output_type": "execute_result"
    },
    {
     "data": {
      "image/png": "[encoded data removed]",
      "text/plain": [
       "<matplotlib.figure.Figure at 0x20987160>"
      ]
     },
     "metadata": {},
     "output_type": "display_data"
    }
   ],
   "source": [
    "plt.plot(np.arange(len(err)),err)\n",
    "plt.xlabel(\"Iteration\")\n",
    "plt.ylabel(\"KL distance\")\n",
    "plt.title(\"Evolution of the distance between V and WH\")"
   ]
  },
  {
   "cell_type": "code",
   "execution_count": 63,
   "metadata": {
    "collapsed": false
   },
   "outputs": [
    {
     "name": "stdout",
     "output_type": "stream",
     "text": [
      "RMSE after the training of a Dictionary with KL distance :  8.74967277281\n"
     ]
    }
   ],
   "source": [
    "MSE = mean_squared_error(R_train, W.dot(H))\n",
    "RMSE = np.sqrt(MSE)\n",
    "print \"RMSE after the training of a Dictionary with KL distance : \", RMSE"
   ]
  },
  {
   "cell_type": "markdown",
   "metadata": {},
   "source": [
    "### Comments:\n",
    "- Convergence is very fast: it converges after only 100 iterations.\n",
    "- The running time is slower: 9.3 s\n",
    "- RMSE is not very good compared to the first solver. The 2nd algorithm seems to overfit."
   ]
  },
  {
   "cell_type": "markdown",
   "metadata": {},
   "source": [
    "## Conclusion:\n",
    "### Advantages\n",
    "- Convergence for both algorithms is fast, and the Kullback-Leibler Solver is almost twice as fast as the Least-Square Solver.\n",
    "- The running time for both algorithms is quite fast (ODG: )\n",
    "\n",
    "### Drawbacks\n",
    "- Compared to other results with the Jester dataset, we should have obtained a RMSE score ranked between 7 and 4. To prove this assumption, we noticed that, given 2 random matrices $W$ and $H$, the RMSE was lower than for our 2 NMF algorithms.\n",
    "- This is due to overfitting. The matrix factorization can overfit for users with few (no more than $K$) ratings: assuming that the feature vectors $H$ of the items  rated by the user are linearly independent and $H$ does not change, there exists a user feature vector $W_u$ with zero training error. Thus, there is a potential for overfitting, if $\\eta$ and the extent of the change in $H$ are both small.\n",
    "- A common way to avoid overfitting is to apply regularization by fixing the dictionary $W$ and by penalizing the square of the Euclidean norm of the weights, i.e. the features matrix of items $H$. NMF induces sparsity a but, but it is not enough to avoid overfitting.\n",
    "- Another drawback is that these 2 algorithms cannot be used for real data, that is to say, they are not scalable. Indeed, the Jester dataset is very small compared to MovieLens for example. In addition, we have only taken a small part of this dataset.\n",
    "- Finally, the 2 algorithms don't deal with missing values: we can only measure the RMSE if the rating matrix is dense. However, this never appears with real data."
   ]
  },
  {
   "cell_type": "markdown",
   "metadata": {},
   "source": [
    "# ---------------------------------------------------------------------------------------------------------------\n",
    "\n",
    "# IV / Link with the paper K-Dimensional Coding Schemes in Hilbert Spaces\n",
    "\n",
    "n order to link the NMF to the paper, let's take a look at the reconstruction error defined in the paper:\n",
    "$$ f_T(x) = \\min_{y \\in Y}{\\| x - T y\\|^2} $$\n",
    "and\n",
    "$$ \\hat{y} = \\text{arg } \\min_{y \\in Y}{\\| x - T y\\|^2} $$\n",
    "\n",
    "To approximate $\\mathbb{E}_{x \\text{ ~ } \\mu} f_T(x)$, we use the empirical risk defined as follows: \n",
    "$$\\frac{1}{m} \\sum \\limits_{i=1}^m f_T(x_i)$$\n",
    "which corresponds to the MSE in our case, with $ x_i$ a user i of the rating matrix $R$\n",
    "\n",
    "The general theorem of the autors give us a bound on the \"regret\" $ \\mathbb{E}_{x \\text{ ~ } \\mu} f_T(x) - \\frac{1}{m} \\sum \\limits_{i=1}^m f_T(x_i)$ with at least probability $1 - \\delta$ as follows:\n",
    "\n",
    "$$\\mathbb{E}_{x \\text{ ~ } \\mu} f_T(x) - \\frac{1}{m} \\sum \\limits_{i=1}^m f_T(x_i) \\leq \\frac{K}{\\sqrt{m}}\\left(14 \\| \\mathcal{T} \\|_{Y} + \\frac{b}{2} \\sqrt{\\ln{16 m \\| \\mathcal{T}}\\|_Y^2} \\right) + b \\sqrt{\\frac{\\ln{1/\\delta}}{2 m}}$$\n",
    "with the following notations:\n",
    "$$\\mathcal{T} = \\{T: T \\in \\mathcal{L}(\\mathbb{R}^K, H)$$\n",
    "\n",
    "$$ \\| \\mathcal{T} \\|_Y = \\sup_{T \\in \\mathcal{T}}{\\| T \\|_Y} = \\sup_{T \\in \\mathcal{T}}{\\sup_{y \\in Y}{\\| T y\\|}} $$\n",
    "\n",
    "In the case of NMF, we have the following constraints :\n",
    " $$\\|T e_k \\| = 1, \\langle T e_k , T e_l\\rangle \\geq 0, 1 \\leq k,l \\leq K$$\n",
    "\n",
    "Here $T$ refers to the matrix $W$ - i.e. the dictionary $D$ we defined in the introduction."
   ]
  },
  {
   "cell_type": "markdown",
   "metadata": {},
   "source": [
    "Let $\\{e_1...e_K\\}$ be the canonical base of $\\mathbb{R}^K$.\n",
    "To apply this bound to the NMF framework we need to be able to fix $b$ and $||\\mathcal{T}||_Y$\n",
    "In the particular case of NMF, all the columns of T are positive and Y is positive and restricted to the $l_1$-ball of $\\mathbb{R}^K$ ie $\\forall i$ we have $y_i<1$. Thus we have :\n",
    "\n",
    "$$\n",
    "||Ty|| = ||\\sum_{k=1}^{K} y_k T e_k ||\n",
    "$$\n",
    "$$\n",
    "\\leq \\sum_{k=1}^{K} |y_k| ||T e_k|| \\text{ with triangle inequality}\n",
    "$$\n",
    "$$\n",
    "= \\sum_{k=1}^{K} y_k ||T e_k|| \\text{ because y postive}\n",
    "$$\n",
    "$$\n",
    "\\leq \\sum_{k=1}^{K} ||T e_k|| \n",
    "$$\n",
    "$$\n",
    "\\leq (\\sum_{k=1}^{K} ||T e_k||^2)^{1/2}\n",
    "$$\n",
    "$$\n",
    "= K^{1/2} \\text{ in the case of NMF, because here $||Te_k|| = 1$ thanks to a re-normalization without loss of generality thanks to Lemma 2 demonstrated by the autors.}\n",
    "$$\n",
    "\n",
    "Thus,\n",
    "$$\n",
    "||\\mathcal{T}||_Y = \\sup_{T \\in \\mathcal{T}} \\sup_y ||Ty|| \\leq K^{1/2}\n",
    "$$\n",
    "\n",
    "So, for NMF, we can use the bound of theorem 2 with $||\\mathcal{T}||_Y = K^{1/2}$ and $b=0$ which give the form of the NMF bound proposed by the autors :\n",
    "\n",
    " $$\\mathbb{E}_{x \\text{ ~ } \\mu} f_T(x) - \\frac{1}{m} \\sum \\limits_{i=1}^m f_T(x_i) \\leq \\frac{K}{\\sqrt{m}}\\left(14 \\sqrt{K} + \\sqrt{\\ln{16 m K}} \\right) + \\sqrt{\\frac{\\ln{1/\\delta}}{2 m}}$$"
   ]
  },
  {
   "cell_type": "markdown",
   "metadata": {},
   "source": [
    "# ---------------------------------------------------------------------------------------------------------------\n",
    "\n",
    "# V / Going further than NMF : Online Structured Dictionary Learning (OSDL)\n",
    "\n",
    "Here, the paper we studied is the following : https://www.cs.cmu.edu/~bapoczos/articles/szabo12collaborative.pdf. However, this paper doesn't provide updates rules and practical details about the algorithm used. We studied, then, their other paper : http://www.gatsby.ucl.ac.uk/~szabo/publications/szabo11online_with_supplementary_material.pdf which provides the pseudo-code (see supplementary part) of the algorithm they proposed.\n",
    "\n",
    "## Main differences with Seung & Lee algorithm\n",
    "\n",
    "1. This is an online algorithm (to be more precise, this algorithm is presented as a generalization of Mairal, Bach, Ponce & Sapiro's Online Dictionary Learning : http://www.di.ens.fr/willow/pdfs/icml09.pdf).\n",
    "2. It takes into account overlapping group structures which could be present in the observed data, thanks to a special penalty term.\n",
    "3. Applies non-convex sparsity inducing regularization.\n",
    "4. Can deal with missing information.\n"
   ]
  },
  {
   "cell_type": "markdown",
   "metadata": {
    "collapsed": true
   },
   "source": [
    "## Overwiew of the problem\n",
    "\n",
    "The algorithm is based, like the NMF, on a alternated minimization scheme.\n",
    "\n",
    "### Minimization on alpha\n",
    "\n",
    "Here, because we are solving an online matrix factorization problem, we don't see the whole dataset $X$. That's why, for a fixed D we have the following problem to solve :\n",
    "\n",
    "$$\n",
    "\\min_{\\alpha} \\frac{1}{2} ||x - D\\alpha||^2_2 + \\kappa\\Omega(\\alpha)\n",
    "$$\n",
    "$$\n",
    "x \\in \\mathbb{R}^{d_x}\n",
    "$$\n",
    "$$\n",
    "\\alpha \\in \\mathbb{R}^{d_\\alpha}\n",
    "$$\n",
    "$$\n",
    "D \\in \\mathbb{R}^{d_x,d_\\alpha}\n",
    "$$\n",
    "$$\n",
    "\\kappa > 0\n",
    "$$\n",
    "\n",
    "Here the penalty is more complex than just a classical $l_1$ penalty : \n",
    "\n",
    "$$\n",
    "\\Omega(\\alpha) = ||(||d^g \\odot \\alpha||_2)_{g \\in G}||_\\eta\n",
    "$$\n",
    "\n",
    "- $d^g$ is a vector containing 1 on indices contained in group $g$ and 0 otherwise.\n",
    "- $g$ is the index of a group of indices belonging to $G$, a set of groups (called structure). If $G$ is a partition of $\\{1...p\\}$ and $\\eta$ is fixed to 1 then it is very easy to see that this penalty is simply the group Lasso. If $G$ is just the singletons $\\{i\\}$ with $i \\in \\{1..p\\}$ and $\\eta$ fixed to 1, the penalty is just the classical Lasso penalty.\n",
    "\n",
    "### Minimization on D\n",
    "#### Basic case\n",
    "Notation :\n",
    "$$\n",
    "l(x_i,D) = \\min_{\\alpha}[ \\frac{1}{2} ||x_i - D\\alpha||^2_2 + \\kappa\\Omega(\\alpha)]\n",
    "$$\n",
    "Here, when the $\\alpha$ minimizing the quantity above is known, we want to minimize the following problem :\n",
    "$$\n",
    "\\min_{D} \\frac{1}{K} \\sum_{i=1}^{T} w_i l(x_i,D)\n",
    "$$\n",
    "$$\n",
    "w_i = (\\frac{i}{T})^\\rho\n",
    "$$\n",
    "- Here it is important to notice that they introduce a weighting term $w_i$ which is decreasing when T increases. That is to say, an old example will have a lot less weight in the quantity to minimize than a recently seen example. Thus, the algorithm is fully online : if we keep it running provinding it an endless flow of data, it will continuously adapt itself to the new data points observed.\n",
    "- K is just a normalization factor to make the sum of the weights equal to one.\n",
    "- $\\rho$ is a \"forgetting factor\", quantifying how fast the algorithm will forget the past examples when fitting D. The fact is that when you put $\\rho$ equal to 0 you get the minimization problem already covered in Mairal's paper : the function is then, just an average of the individual losses of the examples seen.\n",
    "\n",
    "#### Dealing with missing data points\n",
    "When there are missing data points in the training set (for example, in the Jester, missing jokes ratings), the autor proposed a more general reformulation of the problem :\n",
    "\n",
    "$$\n",
    "l(x_i,D) = \\min_{\\alpha}[ \\frac{1}{2} ||\\Delta_i(x_i - D\\alpha)||^2_2 + \\kappa\\Omega(\\alpha)]\n",
    "$$\n",
    "With $\\Delta_i$ a diagonal matrix of the following form :\n",
    "\n",
    "\n",
    "$$\n",
    "\\begin{equation}\n",
    "(\\Delta_i)_{q,q} =\n",
    "  \\left\\{\n",
    "    \\begin{split}\n",
    "     1 \\text{ if   the qth item for the user i is observable}\\\\ \n",
    "     0 \\text{ otherwise} \\\\\n",
    "    \\end{split}\n",
    "  \\right.\n",
    "\\end{equation}\n",
    "$$\n",
    "\n",
    "Then he can computes the form of the updates rules just taking a gradient and solving the linear system :\n",
    "$$\n",
    "D^* = argmin\n",
    "<=>\n",
    "\\nabla_D[ \\frac{1}{K} \\sum_{i=1}^{T}\\frac{w_i}{2} ||\\Delta_i(x_i - D\\alpha)||^2_2 + \\kappa\\Omega(\\alpha) ] = 0\n",
    "<=>\n",
    "\\nabla_D[ \\sum_{i=1}^{T}w_i ||\\Delta_i(x_i - D\\alpha)||^2_2 ] = 0 \\text{ because here $\\alpha$ is fixed}\n",
    "$$\n",
    "\n",
    "The resolution of this equation and some tricks fully described in the paper allow the autors to get the update rule for D.\n",
    "In particular, to do so, they are obliged (as Mairal in his own online learning algo) to introduce some intermediary matrices B,C, and E to compute the update of D (see the pseudo-code in next section).\n",
    "\n"
   ]
  },
  {
   "cell_type": "markdown",
   "metadata": {},
   "source": [
    "## Coding the OSDL algorithm\n",
    "Before starting to code the OSDL algorithm we need 2 functions :\n",
    "- a function to generate the structure used as an input argument for the OSDL algorithm\n",
    "- a function to compute the $\\Delta_i$ matrices for each new line of data we see\n",
    "Here are the implementations of these two functions :\n"
   ]
  },
  {
   "cell_type": "code",
   "execution_count": 36,
   "metadata": {
    "collapsed": true
   },
   "outputs": [],
   "source": [
    "def group_structure(d_alpha, struct, nb_group=3):\n",
    "    if struct == 'lasso':\n",
    "        d_G = []\n",
    "        for i in range(d_alpha):\n",
    "            G = np.zeros(d_alpha)\n",
    "            G[i] = 1\n",
    "            d_G.append(G)\n",
    "            \n",
    "    if struct == 'group_lasso':\n",
    "        # fonction rand pour donner le nombre d'indices dans chaque partition de {1...d_alpha}\n",
    "        # Exemple: n paritions\n",
    "        partition = sorted(np.random.choice(d_alpha, nb_group-1, replace = False))\n",
    "\n",
    "        ## shuffle les indices\n",
    "        shuffled_indices = np.random.choice(d_alpha, d_alpha, replace = False)\n",
    "        \n",
    "        ## Création des groupes\n",
    "        x = []\n",
    "        for i, item in enumerate(partition):\n",
    "            if i == 0:\n",
    "                x.append(shuffled_indices[:item])\n",
    "            elif i == len(partition) - 1:\n",
    "                x.append(shuffled_indices[partition[i-1]:item])\n",
    "                x.append(shuffled_indices[item:])\n",
    "            else:\n",
    "                x.append(shuffled_indices[partition[i-1]: item])\n",
    "        d_G = []\n",
    "        for i, item in enumerate(x):\n",
    "            G = np.zeros(d_alpha)\n",
    "            G[item] = 1\n",
    "            d_G.append(G)\n",
    "            \n",
    "    return d_G\n",
    "\n",
    "def delta(r,X_batch):\n",
    "    X_r = X_batch[:,r]\n",
    "    delta = np.eye((d_x))\n",
    "    non_observable = X_r==99\n",
    "    delta[non_observable,non_observable]=0\n",
    "    return np.array(delta)"
   ]
  },
  {
   "cell_type": "markdown",
   "metadata": {},
   "source": [
    "In the paper, the pseudo-code for the OSDL is the following.\n",
    "<img src='Pseudo-code-main.png'>\n",
    "\n",
    "Our implementation is the following :"
   ]
  },
  {
   "cell_type": "code",
   "execution_count": 44,
   "metadata": {
    "collapsed": true
   },
   "outputs": [],
   "source": [
    "def OSDL(X,D0,T,R,Group_struct,rho,kapa,eta,epsilon = 0.00001,T_alpha = 5,T_D = 5):\n",
    "    d_x, N = X.shape\n",
    "    C = np.zeros((d_x,d_x,d_alpha))\n",
    "    B = np.zeros((d_x,d_alpha))\n",
    "    E = np.zeros((d_x,d_alpha))\n",
    "    alpha = np.random.rand(d_alpha,R)\n",
    "    D = np.random.rand(d_x,d_alpha)\n",
    "    \n",
    "    for t in range(T):\n",
    "        print \"iteration N° : \",t\n",
    "        #Draw samples for mini-batches\n",
    "        X_batch = X[:,t*R:(t+1)*R] #Dans notre cas on coupe artificiellement le dataset en batchs\n",
    "        \n",
    "        #----------------------------------------------------------------------------------------        \n",
    "        #Compute alphas_r representations\n",
    "        for r in range(R):\n",
    "            x_temp = list(X_batch[:,r])\n",
    "            ## Save indexes of observed values\n",
    "            indices = [i for i, item in enumerate(x_temp) if item != 99]\n",
    "            #remove missing values of first row of R_train\n",
    "            x_O = [a for a in x_temp if a != 99]\n",
    "            # save the observed rows of D\n",
    "            D_O = D[np.array(indices),:].copy() \n",
    "            #Compute the r column of alpha\n",
    "            alpha[:,r] = min_alpha(x_O, D_O, alpha[:,r], eta, d_alpha, T_alpha, epsilon, d_G)\n",
    "        \n",
    "        \n",
    "        #----------------------------------------------------------------------------------------    \n",
    "        #Update the statistics\n",
    "        gamma=(1-1/float(t+1))**rho\n",
    "        \n",
    "        #Update B\n",
    "        sum_b = np.zeros((d_x,d_alpha))\n",
    "       \n",
    "        for r in range(R):\n",
    "            sum_b += np.dot(np.expand_dims(np.dot(delta(r,X_batch),X_batch[:,r]),axis=1),np.expand_dims(alpha[:,r],axis=1).T)\n",
    "        B = gamma*B + 1/float(R)*sum_b\n",
    "        \n",
    "        #Update all the C_j matrices and e_j vectors\n",
    "        sum_c = np.zeros((d_x,d_x))\n",
    "        \n",
    "        for j in range(d_alpha):\n",
    "            C_j = C[:,:,j]\n",
    "            E[:,j] = gamma*-E[:,j] #partial update on e_j\n",
    "            \n",
    "            for r in range(R):\n",
    "                sum_c += delta(r,X_batch)*alpha[j,r]**2\n",
    "            \n",
    "            C_j = gamma*C_j + 1/float(R)*sum_c\n",
    "            C[:,:,j] = C_j\n",
    "        #----------------------------------------------------------------------------------------\n",
    "        #Update dictionnary \n",
    "        D = dictionary(C,B,E,X_batch,T_D, alpha,D,d_x,d_alpha,R)\n",
    "        #----------------------------------------------------------------------------------------\n",
    "        #Finish update on E\n",
    "        sum_e = np.zeros(d_x)\n",
    "        for j in range(d_alpha):\n",
    "            e_j = E[:,j]\n",
    "            for r in range(R):\n",
    "                sum_e += np.dot(np.dot(delta(r,X_batch),D),alpha[:,r])*alpha[j,r]\n",
    "                \n",
    "            e_j = e_j + 1/R*sum_e\n",
    "            E[:,j] = e_j #final update\n",
    "        \n",
    "    \n",
    "    return D    \n",
    "    \n"
   ]
  },
  {
   "cell_type": "markdown",
   "metadata": {},
   "source": [
    "The pseudo-code for the update of the alphas is given here :\n",
    "<img src='Pseudo-code-representation.png'>\n",
    "\n",
    "Our implementation is the following :"
   ]
  },
  {
   "cell_type": "code",
   "execution_count": 45,
   "metadata": {
    "collapsed": true
   },
   "outputs": [],
   "source": [
    "def min_alpha(x_O, D_O, alpha, eta, d_alpha, T_alpha, epsilon, d_G):\n",
    "    ## Minimisation on alpha\n",
    "    for t in range(T_alpha):\n",
    "\n",
    "        ## Compute z\n",
    "        norm_G_alpha = []\n",
    "\n",
    "        for j in d_G:\n",
    "            norm_G_alpha.append(np.linalg.norm(j * alpha, ord =2))\n",
    "        coef = (np.linalg.norm(norm_G_alpha, ord = eta) ** (eta - 1))\n",
    "\n",
    "        norm_G_alpha = np.array(norm_G_alpha)\n",
    "        norm_G_alpha = np.power(norm_G_alpha, 2 - eta)\n",
    "        z = norm_G_alpha * coef\n",
    "        for i, item in enumerate(z):\n",
    "            z[i] = max(item, epsilon)\n",
    "\n",
    "        \n",
    "        ## Compute alpha\n",
    "        ksi = []\n",
    "        for j in range(d_alpha):\n",
    "            coef_ksi = 0.0\n",
    "            for i, item in enumerate(z):\n",
    "                coef_ksi += (d_G[i][j])**2 / item \n",
    "            ksi.append(coef_ksi)\n",
    "        \n",
    "        ### Pour résoudre le pb de progammation quadratique, on utilise cvxopt\n",
    "        # P = kappa * diag(ksi) + D_O.T.dot(D_O)\n",
    "        # Q = - D_O.T.dot(x_O)\n",
    "        P = kappa * np.diag(ksi) + D_O.T.dot(D_O)\n",
    "        P = cvxopt.matrix(P)\n",
    "\n",
    "        q = - D_O.T.dot(x_O)\n",
    "        q = cvxopt.matrix(q)\n",
    "\n",
    "        sol = cvxopt.solvers.qp(P,q)\n",
    "        alpha = np.ravel(sol['x'])\n",
    "    return alpha"
   ]
  },
  {
   "cell_type": "markdown",
   "metadata": {},
   "source": [
    "The pseudo-code proposed for the update of the dictionary is the following :\n",
    "<img src='Pseudo-code-dictionary.png'>\n",
    "\n",
    "We propose here the following implementation :"
   ]
  },
  {
   "cell_type": "code",
   "execution_count": 46,
   "metadata": {
    "collapsed": true
   },
   "outputs": [],
   "source": [
    "def dictionary(C,B,E,X_batch,T_D, alpha,D,d_x,d_alpha,R):\n",
    "       \n",
    "    #NOTE ici alpha est la concatenation des vecteurs alphas updatés précédement, pour chaque ligne du batch (R lignes). \n",
    "    #C'est une matric de taille (d_alpha,R)\n",
    "    \n",
    "    for t in range(T_D):\n",
    "        for j in range(d_alpha):\n",
    "            #compute e_j\n",
    "            sum_r=0\n",
    "            for r in range(int(R)) :  \n",
    "                sum_r += np.dot(np.dot(delta(r,X_batch),D),alpha[:,r])*alpha[j,r]\n",
    "            e_j_temp = E[:,j] + 1/R * sum_r\n",
    "            #compute u_j by solving linear system\n",
    "            C_j = C[:,:,j]\n",
    "            u = np.linalg.solve(C_j, B[:,j]-e_j_temp+np.dot(C_j,D[:,j]))\n",
    "            #u = np.linalg.lstsq(C_j, B[:,j]-e_j_temp+np.dot(C_j,D[:,j]))[0]\n",
    "            #contraints u_j to keep only positive coefficients\n",
    "            u[u<0]=0\n",
    "            #compute d_j by projection of u on the good space\n",
    "            D[:,j] = u / max(np.linalg.norm(u),1)\n",
    "            \n",
    "    return D "
   ]
  },
  {
   "cell_type": "markdown",
   "metadata": {},
   "source": [
    "## Remarks\n",
    "\n",
    "### Similarities with Mairal's paper\n",
    "First, as far as the algorithm is online, we can notice some __similarities__ with Mairal's algorithm : \n",
    "- This is a alternated minimization scheme, on alpha and on D.\n",
    "- Alpha is updated with a fixed D using a quadratic programing solver (for ex the one implemented in cvxopt). Mairal proposed, on the other hand, a LARS solver (for ex the one implemented in sklearn)\n",
    "- The dictionary is updated using intermediary matrices : A,B in Mairal, E,B,C,delta in this paper.\n",
    "\n",
    "### Differences with Mairal's paper\n",
    "- We use batches of data. That is to say, instead of doing the online procedure line of observation by line of observation, we take multiple lines in the same time, we concantenate them and, then, start updating alpha and D.\n",
    "- Because the penalty is a lot more complex than Mairal's one, the update of alpha is different and needs extra-steps before calling the solver (i.e computing the \"argmin step\"). \n",
    "- Mairal paper doesn't talk about incomplete data. In fact, here, most of our entries are incomplete. That's why, in the updates formulas, there is a $\\Delta_i$ matrix ivolved while this factor is absent of Mairal work. \n",
    "- Finally, because the function to optimize in D with a regret factor (not implemented in Mairal's) and because of the previous point, the updates rules are more complex. \n",
    "\n"
   ]
  },
  {
   "cell_type": "markdown",
   "metadata": {},
   "source": [
    "# Learning D and predicting ratings\n",
    "\n",
    "Here, because the algorithm is online we cannot use a prediction of the form :\n",
    "$$\n",
    "\\hat{X} = DA\n",
    "$$\n",
    "because the learning algorithm is only able to return a learnt dictionary $D$. The $\\alpha$s are scratched at each iteration. Thus, we used the following technique :\n",
    "- Learn D on a train dataset with the OSDL algorithm\n",
    "- Then, iteratively, make a prediction for a new data point belonging to the test data set letting D unmodified and modifying the $\\alpha$ at each step, like in the training phase. At each step the prediction is then :\n",
    "$$\n",
    "\\hat{x} = D\\alpha\n",
    "$$"
   ]
  },
  {
   "cell_type": "markdown",
   "metadata": {},
   "source": [
    "### Split the dataset"
   ]
  },
  {
   "cell_type": "code",
   "execution_count": 47,
   "metadata": {
    "collapsed": true
   },
   "outputs": [],
   "source": [
    "R_train = ratings[:10000]\n",
    "R_val = ratings[10000:20000]\n",
    "R_test = ratings[20000:]"
   ]
  },
  {
   "cell_type": "markdown",
   "metadata": {},
   "source": [
    "### Initialize parameters"
   ]
  },
  {
   "cell_type": "code",
   "execution_count": 48,
   "metadata": {
    "collapsed": false
   },
   "outputs": [],
   "source": [
    "d_alpha = 100\n",
    "d_x = 100\n",
    "alpha = np.random.randn(d_alpha)\n",
    "#Number of iterations in the alpha update\n",
    "T_alpha = 5\n",
    "#Number of iterations in the D update\n",
    "T_D = 5\n",
    "#Number of iterations in the OSDL learning (corresponding to the number of batches)\n",
    "T = 150\n",
    "#Size of batches\n",
    "R = 8\n",
    "#Regularization parameters\n",
    "epsilon = 10**(-5)\n",
    "rho = 32\n",
    "eta = 0.5\n",
    "kappa = 1. / (2**10)\n",
    "#Structure\n",
    "d_G = group_structure(d_alpha, struct='lasso', nb_group=10)\n",
    "#Initialization dictionary\n",
    "D0 = np.random.rand(d_x,d_alpha)"
   ]
  },
  {
   "cell_type": "markdown",
   "metadata": {},
   "source": [
    "### Train D"
   ]
  },
  {
   "cell_type": "code",
   "execution_count": 49,
   "metadata": {
    "collapsed": false
   },
   "outputs": [
    {
     "name": "stdout",
     "output_type": "stream",
     "text": [
      "iteration N° :  0\n",
      "iteration N° :  1\n",
      "iteration N° :  2\n",
      "iteration N° :  3\n",
      "iteration N° :  4\n",
      "iteration N° :  5\n",
      "iteration N° :  6\n",
      "iteration N° :  7\n",
      "iteration N° :  8\n",
      "iteration N° :  9\n",
      "iteration N° :  10\n",
      "iteration N° :  11\n",
      "iteration N° :  12\n",
      "iteration N° :  13\n",
      "iteration N° :  14\n",
      "iteration N° :  15\n",
      "iteration N° :  16\n",
      "iteration N° :  17\n",
      "iteration N° :  18\n",
      "iteration N° :  19\n",
      "iteration N° :  20\n",
      "iteration N° :  21\n",
      "iteration N° :  22\n",
      "iteration N° :  23\n",
      "iteration N° :  24\n",
      "iteration N° :  25\n",
      "iteration N° :  26\n",
      "iteration N° :  27\n",
      "iteration N° :  28\n",
      "iteration N° :  29\n",
      "iteration N° :  30\n",
      "iteration N° :  31\n",
      "iteration N° :  32\n",
      "iteration N° :  33\n",
      "iteration N° :  34\n",
      "iteration N° :  35\n",
      "iteration N° :  36\n",
      "iteration N° :  37\n",
      "iteration N° :  38\n",
      "iteration N° :  39\n",
      "iteration N° :  40\n",
      "iteration N° :  41\n",
      "iteration N° :  42\n",
      "iteration N° :  43\n",
      "iteration N° :  44\n",
      "iteration N° :  45\n",
      "iteration N° :  46\n",
      "iteration N° :  47\n",
      "iteration N° :  48\n",
      "iteration N° :  49\n",
      "iteration N° :  50\n",
      "iteration N° :  51\n",
      "iteration N° :  52\n",
      "iteration N° :  53\n",
      "iteration N° :  54\n",
      "iteration N° :  55\n",
      "iteration N° :  56\n",
      "iteration N° :  57\n",
      "iteration N° :  58\n",
      "iteration N° :  59\n",
      "iteration N° :  60\n",
      "iteration N° :  61\n",
      "iteration N° :  62\n",
      "iteration N° :  63\n",
      "iteration N° :  64\n",
      "iteration N° :  65\n",
      "iteration N° :  66\n",
      "iteration N° :  67\n",
      "iteration N° :  68\n",
      "iteration N° :  69\n",
      "iteration N° :  70\n",
      "iteration N° :  71\n",
      "iteration N° :  72\n",
      "iteration N° :  73\n",
      "iteration N° :  74\n",
      "iteration N° :  75\n",
      "iteration N° :  76\n",
      "iteration N° :  77\n",
      "iteration N° :  78\n",
      "iteration N° :  79\n",
      "iteration N° :  80\n",
      "iteration N° :  81\n",
      "iteration N° :  82\n",
      "iteration N° :  83\n",
      "iteration N° :  84\n",
      "iteration N° :  85\n",
      "iteration N° :  86\n",
      "iteration N° :  87\n",
      "iteration N° :  88\n",
      "iteration N° :  89\n",
      "iteration N° :  90\n",
      "iteration N° :  91\n",
      "iteration N° :  92\n",
      "iteration N° :  93\n",
      "iteration N° :  94\n",
      "iteration N° :  95\n",
      "iteration N° :  96\n",
      "iteration N° :  97\n",
      "iteration N° :  98\n",
      "iteration N° :  99\n",
      "iteration N° :  100\n",
      "iteration N° :  101\n",
      "iteration N° :  102\n",
      "iteration N° :  103\n",
      "iteration N° :  104\n",
      "iteration N° :  105\n",
      "iteration N° :  106\n",
      "iteration N° :  107\n",
      "iteration N° :  108\n",
      "iteration N° :  109\n",
      "iteration N° :  110\n",
      "iteration N° :  111\n",
      "iteration N° :  112\n",
      "iteration N° :  113\n",
      "iteration N° :  114\n",
      "iteration N° :  115\n",
      "iteration N° :  116\n",
      "iteration N° :  117\n",
      "iteration N° :  118\n",
      "iteration N° :  119\n",
      "iteration N° :  120\n",
      "iteration N° :  121\n",
      "iteration N° :  122\n",
      "iteration N° :  123\n",
      "iteration N° :  124\n",
      "iteration N° :  125\n",
      "iteration N° :  126\n",
      "iteration N° :  127\n",
      "iteration N° :  128\n",
      "iteration N° :  129\n",
      "iteration N° :  130\n",
      "iteration N° :  131\n",
      "iteration N° :  132\n",
      "iteration N° :  133\n",
      "iteration N° :  134\n",
      "iteration N° :  135\n",
      "iteration N° :  136\n",
      "iteration N° :  137\n",
      "iteration N° :  138\n",
      "iteration N° :  139\n",
      "iteration N° :  140\n",
      "iteration N° :  141\n",
      "iteration N° :  142\n",
      "iteration N° :  143\n",
      "iteration N° :  144\n",
      "iteration N° :  145\n",
      "iteration N° :  146\n",
      "iteration N° :  147\n",
      "iteration N° :  148\n",
      "iteration N° :  149\n"
     ]
    }
   ],
   "source": [
    "X = R_train.T\n",
    "D = OSDL(X,D0,T,R,d_G,rho,kappa,eta,epsilon,T_alpha,T_D)"
   ]
  },
  {
   "cell_type": "markdown",
   "metadata": {},
   "source": [
    "## Testing phase"
   ]
  },
  {
   "cell_type": "code",
   "execution_count": 50,
   "metadata": {
    "collapsed": false
   },
   "outputs": [],
   "source": [
    "## Take 1st row of R_train\n",
    "x = list(R_train[0].copy())\n",
    "\n",
    "## Save indexes of observed values\n",
    "indices = [i for i, item in enumerate(x) if item != 99]\n",
    "\n",
    "#remove missing values of first row of R_train\n",
    "x_O = [a for a in x if a != 99]\n",
    "\n",
    "# save the observed rows of D\n",
    "D_O = D[np.array(indices),:].copy() "
   ]
  },
  {
   "cell_type": "code",
   "execution_count": 54,
   "metadata": {
    "collapsed": false
   },
   "outputs": [],
   "source": [
    "def testing_model(D, alpha, nb_items_to_remove, R_test, model = 'NMF', missing_value = 99):\n",
    "    from sklearn.metrics import mean_squared_error\n",
    "    ## Define testing set\n",
    "    # On définit le testing set, on fait la prédiction et on calcule l'erreur dans 1 même boucle\n",
    "    \n",
    "    N = R_test.shape[0]\n",
    "    MSE = 0.0\n",
    "    #if model == 'NMF':\n",
    "     #   XXXXXXXX\n",
    "    if model == 'OSDL':\n",
    "        for j, jtem in enumerate(R_test):\n",
    "            ## Take 1st row of R_train\n",
    "            x = jtem.copy()\n",
    "\n",
    "            ## Save indexes of observed values\n",
    "            indices = [i for i, item in enumerate(x) if item != missing_value]\n",
    "            indices = np.array(indices)\n",
    "\n",
    "            # save the observed rows of D\n",
    "            # we will use for prediction of x_O_pred and compare it to x_O\n",
    "            D_O_test = D[np.array(indices),:].copy() \n",
    "\n",
    "            #remove missing values of first row of R_train\n",
    "            x_O_test = x[indices]\n",
    "\n",
    "            #remove nb_items_to_remove values of x_O_test\n",
    "            index_pred = sorted(np.random.choice(len(x_O_test), len(x_O_test) - nb_items_to_remove, replace = False))\n",
    "            x_O_pred = x_O_test[index_pred].copy()\n",
    "            D_O_pred = D[index_pred,:].copy()\n",
    "\n",
    "            #prediction\n",
    "            alpha_test = min_alpha(x_O_pred, D_O_pred, alpha, eta, d_alpha, T_alpha, epsilon, d_G)\n",
    "\n",
    "            MSE += mean_squared_error(x_O_test, D_O_test.dot(alpha_test))\n",
    "\n",
    "        MSE = MSE / N\n",
    "        RMSE = np.sqrt(MSE)\n",
    "    return 'MSE: ',MSE, ' RMSE: ', RMSE\n",
    "        \n",
    "    "
   ]
  },
  {
   "cell_type": "code",
   "execution_count": 55,
   "metadata": {
    "collapsed": false
   },
   "outputs": [
    {
     "data": {
      "text/plain": [
       "('MSE: ', 23.990990881590296, ' RMSE: ', 4.8980599099633615)"
      ]
     },
     "execution_count": 55,
     "metadata": {},
     "output_type": "execute_result"
    }
   ],
   "source": [
    "testing_model(D, alpha, 10, R_test, model = 'OSDL', missing_value = 99)"
   ]
  },
  {
   "cell_type": "markdown",
   "metadata": {},
   "source": [
    "We find a RMSE which is in the order of what is exepected on this dataset (<5) : see Kaggle competition on this particular dataset for instance (https://inclass.kaggle.com/c/uci77B/leaderboard). However, we are still far from the results achieved by the autors of the paper. Multiple reasons could explain that :\n",
    "- They use a better tuned group-structure whereas our dictionnary is based on a simple Lasso\n",
    "- They tuned the set of hyperparameters better (with cross-validation)\n",
    "- Something is going wrong in our implementation of the OSDL learning process (but because of the complexity of the code, this is really hard to check). However, because the testing phase seems to work pretty well, the problem may come from the dictionary update phase...\n"
   ]
  },
  {
   "cell_type": "code",
   "execution_count": null,
   "metadata": {
    "collapsed": true
   },
   "outputs": [],
   "source": [
    "## Define similarities\n",
    "\n",
    "# Normalized scalar product based similarity\n",
    "def item_similarity_1(q_i, q_j, alpha):\n",
    "    a = (q_i ).T.dot(q_j)\n",
    "    b = q_i.T.dot(q_i)\n",
    "    c = q_j.T.dot(q_j)\n",
    "    \n",
    "    s_ij = (max(0, a) / np.sqrt(b * c))** alpha\n",
    "    \n",
    "    return s_ij\n",
    "\n",
    "# Normalized Euclidian distance based similarity\n",
    "def item_similarity_2(q_i, q_j, alpha):\n",
    "    a = (q_i - q_j).T.dot(q_i - q_j)\n",
    "    b = q_i.T.dot(q_i)\n",
    "    c = q_j.T.dot(q_j)\n",
    "    \n",
    "    s_ij = (a / np.sqrt(b * c))**(- alpha)\n",
    "    \n",
    "    return s_ij"
   ]
  },
  {
   "cell_type": "markdown",
   "metadata": {
    "collapsed": true
   },
   "source": [
    "## Conclusion on OSDL\n",
    "This algorithm has multiple advantages and drawbacks, here are the main :\n",
    "\n",
    "### Advantages\n",
    "- The OSDL algorithm is able to penalize group structures, a lot more complex than simple lasso. This is particularly interesting in image processing where the images could have group-of-pixels structures. Moreover, the wavelet transform has a tree structure which could also be used using OSDL.\n",
    "- The OSDL algorithm is batch (increase of speed) and online. Thus it can deals with continuous incoming flows of data.\n",
    "- It is flexible in time thanks to the regret term. The paper proposed by Mairal didn't have this particularity, resulting, after too much iterations, in an avareging of the dictionary (this is bad beacuse if the atoms of the dictionary are too similar, its expressivity is low)\n",
    "- It is able to treat incomplete data, but, then, the reconstruction error could be really bad.\n",
    "\n",
    "### Drawbacks\n",
    "- The pseudo-code proposed by the autors is excessively complex, especially if you compare it to Seug & Lee or to Mairal papers.\n",
    "- This method is not scalable ! It requires, for the update of D, to store in memory $d_\\alpha$ matrices $C_j$ of size $(d_x,d_x)$. This method is particularly not implementable if $d_x$ is high, that is to say if we have a lot of ratings per user. Maybe it explains why the autors chose the Jester dataset ! (which is of size $d_x$ particularly small !)\n",
    "- Of course, if the dataset was larger, we would also face a slow down when computing the alpha and D updates with quadratic solvers...\n",
    "- The pseudo-code proposed is not optimized. If you look carefully, we compute some updates in the main loop which are then recomputed in the dictionary update loop. This could have been treated simply, to make things more understandable, we wanted to stick to the paper formulations.\n",
    "- We don't see how, on the specific problem of collaborative filtering on the Jester dataset, a group structure can be exhibited. We have no information about similarities between items. Thus, it seems strange to prior iteractions/structure between items... Maybe a \"bruteforce\" approach could have improve the results : simulate randomly a structure, train D, assess the performances, restart a high number of time and keep the best performing random structure.\n",
    "- This algorithm introduce a lot of hyperparameters ! This could make it more flexible to different datasets, but in the mean time it increases a lot the complexity of the training phase : the only way to fix the hyperparameters is to do extensive grid searching. This operation, of course, is computationally heavy.\n",
    "\n"
   ]
  }
 ],
 "metadata": {
  "kernelspec": {
   "display_name": "Python 2",
   "language": "python",
   "name": "python2"
  },
  "language_info": {
   "codemirror_mode": {
    "name": "ipython",
    "version": 2
   },
   "file_extension": ".py",
   "mimetype": "text/x-python",
   "name": "python",
   "nbconvert_exporter": "python",
   "pygments_lexer": "ipython2",
   "version": "2.7.10"
  }
 },
 "nbformat": 4,
 "nbformat_minor": 0
}
