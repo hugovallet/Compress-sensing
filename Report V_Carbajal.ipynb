{
 "cells": [
  {
   "cell_type": "markdown",
   "metadata": {},
   "source": [
    "# Compressed sensing project : study of non-negative matrix factorization and online dictionary learning\n",
    "\n"
   ]
  },
  {
   "cell_type": "markdown",
   "metadata": {},
   "source": [
    "# Introduction\n",
    "\n"
   ]
  },
  {
   "cell_type": "markdown",
   "metadata": {},
   "source": [
    "There are 2 types of recommender systems:\n",
    "### 1. Content-based approach\n",
    "They make profiles of users by identifying characteristic features about them: city, age, sex, etc. They also make profiles of items: type of product, product description, etc. However, there are 2 main limitations to this approach: on the one hand, it is a laborious task to collect all this information; on the other hand, collecting this information is a privacy-related problem.\n",
    "### 2. Collaborative filtering\n",
    "These systems only use features of past activities of the users: transaction history (such as Amazon does), user satisfaction expressed in ratings. Collaborative filtering algorithms lie in the following hypothesis: a group of people who have similar tastes in the past might also agree on their tastes in the future. Therefore,these algorithms seek to identify relationships between items and users."
   ]
  },
  {
   "cell_type": "markdown",
   "metadata": {},
   "source": [
    "Since the early 1990s, several collaborative filtering-related papers were published to tackle the problem. The Netflix Prize, held from 2007 to 2009, boosted the interested in these algorithms. "
   ]
  },
  {
   "cell_type": "markdown",
   "metadata": {},
   "source": [
    "Nowadays, most of these algorithms rely on 2 mains parts: Matrix Factorization (MF) and Neighbor-based Approaches. Our project is mainly focused on MF."
   ]
  },
  {
   "cell_type": "markdown",
   "metadata": {},
   "source": [
    "# Some definitions"
   ]
  },
  {
   "cell_type": "markdown",
   "metadata": {},
   "source": [
    "The problem of Collaborative Filetring can be expressed as follows. We have:\n",
    "- $U$: set of $N$ users\n",
    "- $I$: set of $M$ items\n",
    "- $R$: ratings of items by users\n",
    "Therefore, $R$ is a matrix in which users are represented as rows and items are represented as columns. The idea of MF is to approximate by the product of 2 matrices $P$ and $Q$:\n",
    "$$ R \\approx P Q $$\n",
    "with $P$ is of size $N$ x $K$ and $Q$ is of size $K$ x $M$\n",
    "\n",
    "$P$ represents the features matrix of the users and $Q$ represents the features matrix of the items. Usually $K \\ll N,M$ which decreases the number of parameters needed to learn a model from $NM$ to $NK + KM$. The process of prediction comes as follows:\n",
    "1. We train a matrix factorization to obtain the 2 matrices $P$ and $Q$\n",
    "2. To predict a rating $ \\hat{r_{ui}}$ for a given item $i$ for a user $u$, we just take the $u^{th}$ row of $P$ and apply the dot product with the $i^{th}$ of $Q$:\n",
    "$$ \\hat{r_{ui}} = \\sum \\limits_{k=1}^{K} p_{uk} q_{ki} = \\mathbf{p_{u}} \\mathbf{q_{i}} $$"
   ]
  },
  {
   "cell_type": "markdown",
   "metadata": {},
   "source": [
    "This method mainly applies for batch methods: we assume that we have all the set of users to make our predictions of new $\\hat{r_{ui}}$. However, we will see in part IV that we can't apply the same reasoning for online methods."
   ]
  },
  {
   "cell_type": "markdown",
   "metadata": {},
   "source": [
    "The intuition behind this statement is related to what is called $\\it Dictionary$  $\\it Learning$: let us consider a set $X = (x_1, . . . , x_N) ∈ \\mathbb{R}^{M×N}$ of $N$ signals of dimension $M$. Dictionary learning is a matrix factorization problem that aims to represent these signals as linear combinations of dictionary elements, denoted here by the columns of a matrix $D = (d_1, . . . , d_K) ∈ \\mathbb{R}^{M×K}$. More precisely, the dictionary $D$ is learned along with a matrix of decomposition coefficients $A = (\\alpha_1, . . . , \\alpha_n) \\in\n",
    "\\mathbb{R}^{K×N}$, so that $x_i \\approx D \\alpha_i $ for every signal $x_i$ and for a given loss metrics. For example, PCA can be seen as a $\\it Dictionary$ $\\it Learning$ task, in which the components of the dictionary are orthogonal."
   ]
  },
  {
   "cell_type": "markdown",
   "metadata": {},
   "source": [
    "In order to measure the performance of our models with a validation set $V$, 2 main metrics are usued:\n",
    "- the Root Mean-Square Error:  $RMSE = \\sqrt{\\frac{1}{|V|} \\sum (\\hat{r_{ui}} - r_{ui})^2}$\n",
    "- the Absolute Mean Error: $AME = \\{\\frac{1}{|V|} \\sum |\\hat{r_{ui}} - r_{ui}|$"
   ]
  },
  {
   "cell_type": "markdown",
   "metadata": {},
   "source": [
    "\n",
    "In this project, we will only focuse on the RMSE, as it is the most common metrics used for Collaborative Filtering problems."
   ]
  },
  {
   "cell_type": "markdown",
   "metadata": {},
   "source": [
    "We define our $\\it Dictionary$ $\\it Learning$ project in 2 different tasks:\n",
    "1. Analyzing a batch method for collaborative filtering: Non Negative Matrix Factorization (NMF)\n",
    "2. Analyzing an online method: Online Structured Sparse Dictionary Learning (OSDL)"
   ]
  },
  {
   "cell_type": "code",
   "execution_count": 2,
   "metadata": {
    "collapsed": false
   },
   "outputs": [],
   "source": [
    "import numpy as np\n",
    "import pandas as pd\n",
    "import cvxopt"
   ]
  },
  {
   "cell_type": "code",
   "execution_count": 27,
   "metadata": {
    "collapsed": true
   },
   "outputs": [],
   "source": [
    "%matplotlib inline\n",
    "import matplotlib.pyplot as plt\n",
    "import numpy as np\n",
    "import scipy.linalg as lin\n",
    "from time import time"
   ]
  },
  {
   "cell_type": "code",
   "execution_count": 4,
   "metadata": {
    "collapsed": true
   },
   "outputs": [],
   "source": [
    "from sklearn.metrics import mean_squared_error"
   ]
  },
  {
   "cell_type": "markdown",
   "metadata": {},
   "source": [
    "# Jester database"
   ]
  },
  {
   "cell_type": "markdown",
   "metadata": {},
   "source": [
    "For our 2 task, we will use the Jester dataset, which consists of 100 jokes rated by 24,983 users."
   ]
  },
  {
   "cell_type": "code",
   "execution_count": 5,
   "metadata": {
    "collapsed": false
   },
   "outputs": [
    {
     "data": {
      "text/html": [
       "<div>\n",
       "<table border=\"1\" class=\"dataframe\">\n",
       "  <thead>\n",
       "    <tr style=\"text-align: right;\">\n",
       "      <th></th>\n",
       "      <th>1</th>\n",
       "      <th>2</th>\n",
       "      <th>3</th>\n",
       "      <th>4</th>\n",
       "      <th>5</th>\n",
       "      <th>6</th>\n",
       "      <th>7</th>\n",
       "      <th>8</th>\n",
       "      <th>9</th>\n",
       "      <th>10</th>\n",
       "      <th>...</th>\n",
       "      <th>91</th>\n",
       "      <th>92</th>\n",
       "      <th>93</th>\n",
       "      <th>94</th>\n",
       "      <th>95</th>\n",
       "      <th>96</th>\n",
       "      <th>97</th>\n",
       "      <th>98</th>\n",
       "      <th>99</th>\n",
       "      <th>100</th>\n",
       "    </tr>\n",
       "  </thead>\n",
       "  <tbody>\n",
       "    <tr>\n",
       "      <th>0</th>\n",
       "      <td>-7.82</td>\n",
       "      <td>8.79</td>\n",
       "      <td>-9.66</td>\n",
       "      <td>-8.16</td>\n",
       "      <td>-7.52</td>\n",
       "      <td>-8.50</td>\n",
       "      <td>-9.85</td>\n",
       "      <td>4.17</td>\n",
       "      <td>-8.98</td>\n",
       "      <td>-4.76</td>\n",
       "      <td>...</td>\n",
       "      <td>2.82</td>\n",
       "      <td>99.00</td>\n",
       "      <td>99.00</td>\n",
       "      <td>99.00</td>\n",
       "      <td>99.00</td>\n",
       "      <td>99.00</td>\n",
       "      <td>-5.63</td>\n",
       "      <td>99.00</td>\n",
       "      <td>99.00</td>\n",
       "      <td>99.00</td>\n",
       "    </tr>\n",
       "    <tr>\n",
       "      <th>1</th>\n",
       "      <td>4.08</td>\n",
       "      <td>-0.29</td>\n",
       "      <td>6.36</td>\n",
       "      <td>4.37</td>\n",
       "      <td>-2.38</td>\n",
       "      <td>-9.66</td>\n",
       "      <td>-0.73</td>\n",
       "      <td>-5.34</td>\n",
       "      <td>8.88</td>\n",
       "      <td>9.22</td>\n",
       "      <td>...</td>\n",
       "      <td>2.82</td>\n",
       "      <td>-4.95</td>\n",
       "      <td>-0.29</td>\n",
       "      <td>7.86</td>\n",
       "      <td>-0.19</td>\n",
       "      <td>-2.14</td>\n",
       "      <td>3.06</td>\n",
       "      <td>0.34</td>\n",
       "      <td>-4.32</td>\n",
       "      <td>1.07</td>\n",
       "    </tr>\n",
       "    <tr>\n",
       "      <th>2</th>\n",
       "      <td>99.00</td>\n",
       "      <td>99.00</td>\n",
       "      <td>99.00</td>\n",
       "      <td>99.00</td>\n",
       "      <td>9.03</td>\n",
       "      <td>9.27</td>\n",
       "      <td>9.03</td>\n",
       "      <td>9.27</td>\n",
       "      <td>99.00</td>\n",
       "      <td>99.00</td>\n",
       "      <td>...</td>\n",
       "      <td>99.00</td>\n",
       "      <td>99.00</td>\n",
       "      <td>99.00</td>\n",
       "      <td>9.08</td>\n",
       "      <td>99.00</td>\n",
       "      <td>99.00</td>\n",
       "      <td>99.00</td>\n",
       "      <td>99.00</td>\n",
       "      <td>99.00</td>\n",
       "      <td>99.00</td>\n",
       "    </tr>\n",
       "    <tr>\n",
       "      <th>3</th>\n",
       "      <td>99.00</td>\n",
       "      <td>8.35</td>\n",
       "      <td>99.00</td>\n",
       "      <td>99.00</td>\n",
       "      <td>1.80</td>\n",
       "      <td>8.16</td>\n",
       "      <td>-2.82</td>\n",
       "      <td>6.21</td>\n",
       "      <td>99.00</td>\n",
       "      <td>1.84</td>\n",
       "      <td>...</td>\n",
       "      <td>99.00</td>\n",
       "      <td>99.00</td>\n",
       "      <td>99.00</td>\n",
       "      <td>0.53</td>\n",
       "      <td>99.00</td>\n",
       "      <td>99.00</td>\n",
       "      <td>99.00</td>\n",
       "      <td>99.00</td>\n",
       "      <td>99.00</td>\n",
       "      <td>99.00</td>\n",
       "    </tr>\n",
       "    <tr>\n",
       "      <th>4</th>\n",
       "      <td>8.50</td>\n",
       "      <td>4.61</td>\n",
       "      <td>-4.17</td>\n",
       "      <td>-5.39</td>\n",
       "      <td>1.36</td>\n",
       "      <td>1.60</td>\n",
       "      <td>7.04</td>\n",
       "      <td>4.61</td>\n",
       "      <td>-0.44</td>\n",
       "      <td>5.73</td>\n",
       "      <td>...</td>\n",
       "      <td>5.19</td>\n",
       "      <td>5.58</td>\n",
       "      <td>4.27</td>\n",
       "      <td>5.19</td>\n",
       "      <td>5.73</td>\n",
       "      <td>1.55</td>\n",
       "      <td>3.11</td>\n",
       "      <td>6.55</td>\n",
       "      <td>1.80</td>\n",
       "      <td>1.60</td>\n",
       "    </tr>\n",
       "  </tbody>\n",
       "</table>\n",
       "<p>5 rows × 100 columns</p>\n",
       "</div>"
      ],
      "text/plain": [
       "     1      2      3      4     5     6     7     8      9      10   ...    \\\n",
       "0  -7.82   8.79  -9.66  -8.16 -7.52 -8.50 -9.85  4.17  -8.98  -4.76  ...     \n",
       "1   4.08  -0.29   6.36   4.37 -2.38 -9.66 -0.73 -5.34   8.88   9.22  ...     \n",
       "2  99.00  99.00  99.00  99.00  9.03  9.27  9.03  9.27  99.00  99.00  ...     \n",
       "3  99.00   8.35  99.00  99.00  1.80  8.16 -2.82  6.21  99.00   1.84  ...     \n",
       "4   8.50   4.61  -4.17  -5.39  1.36  1.60  7.04  4.61  -0.44   5.73  ...     \n",
       "\n",
       "     91     92     93     94     95     96     97     98     99     100  \n",
       "0   2.82  99.00  99.00  99.00  99.00  99.00  -5.63  99.00  99.00  99.00  \n",
       "1   2.82  -4.95  -0.29   7.86  -0.19  -2.14   3.06   0.34  -4.32   1.07  \n",
       "2  99.00  99.00  99.00   9.08  99.00  99.00  99.00  99.00  99.00  99.00  \n",
       "3  99.00  99.00  99.00   0.53  99.00  99.00  99.00  99.00  99.00  99.00  \n",
       "4   5.19   5.58   4.27   5.19   5.73   1.55   3.11   6.55   1.80   1.60  \n",
       "\n",
       "[5 rows x 100 columns]"
      ]
     },
     "execution_count": 5,
     "metadata": {},
     "output_type": "execute_result"
    }
   ],
   "source": [
    "xl = pd.ExcelFile('jester-data-1.xls')\n",
    "xl.sheet_names\n",
    "df = xl.parse('jester-data-1-new', header = None)\n",
    "nb_jokes_user = df[0]\n",
    "del df[0]\n",
    "df.head()"
   ]
  },
  {
   "cell_type": "code",
   "execution_count": 6,
   "metadata": {
    "collapsed": false
   },
   "outputs": [
    {
     "name": "stdout",
     "output_type": "stream",
     "text": [
      "24983 users\n",
      "100 items\n"
     ]
    }
   ],
   "source": [
    "n_users = df.shape[0]\n",
    "n_items = df.shape[1]\n",
    "print str(n_users) + ' users'\n",
    "print str(n_items) + ' items'"
   ]
  },
  {
   "cell_type": "markdown",
   "metadata": {},
   "source": [
    "The missing values (non rated elements of the rating matrix) are denoted by the value 99."
   ]
  },
  {
   "cell_type": "code",
   "execution_count": 7,
   "metadata": {
    "collapsed": false,
    "scrolled": true
   },
   "outputs": [
    {
     "data": {
      "text/plain": [
       "array([[ -7.82,   8.79,  -9.66, ...,  99.  ,  99.  ,  99.  ],\n",
       "       [  4.08,  -0.29,   6.36, ...,   0.34,  -4.32,   1.07],\n",
       "       [ 99.  ,  99.  ,  99.  , ...,  99.  ,  99.  ,  99.  ],\n",
       "       ..., \n",
       "       [ 99.  ,  99.  ,  99.  , ...,  99.  ,  99.  ,  99.  ],\n",
       "       [ 99.  ,  99.  ,  99.  , ...,  99.  ,  99.  ,  99.  ],\n",
       "       [  2.43,   2.67,  -3.98, ...,  99.  ,  99.  ,  99.  ]])"
      ]
     },
     "execution_count": 7,
     "metadata": {},
     "output_type": "execute_result"
    }
   ],
   "source": [
    "ratings = np.array(df)\n",
    "ratings"
   ]
  },
  {
   "cell_type": "markdown",
   "metadata": {},
   "source": [
    "Then we seperated the ratings matrix into 3 matrices: $R_{train}$, $R_{val}$ and $R_{test}$."
   ]
  },
  {
   "cell_type": "code",
   "execution_count": 8,
   "metadata": {
    "collapsed": false
   },
   "outputs": [],
   "source": [
    "## Partition the ratings into train / validation set\n",
    "R_train = ratings[:10000]\n",
    "R_val = ratings[10000:20000]\n",
    "R_test = ratings[20000:]"
   ]
  },
  {
   "cell_type": "markdown",
   "metadata": {},
   "source": [
    "# First part : non-negative matrix factorization\n",
    "\n",
    "We wanted here to study Seung & Lee's \"Algorithms for Non-negative Matrix Factorization\" paper. They propose two types of non-negative factorization (NMF) : one that minimizes a least-squares distance and one that minimizes the Kullback-Leibler divergence (in the case that our initialization matrix is a probability matrix)."
   ]
  },
  {
   "cell_type": "markdown",
   "metadata": {},
   "source": [
    "The advantage of NMF is that, because of the nature of the algorithms implemented to obtain nonnnegative matrices, the nonnegative basis vectors that are\n",
    "learned are sparse combinations to generate expressiveness in\n",
    "the reconstructions."
   ]
  },
  {
   "cell_type": "markdown",
   "metadata": {},
   "source": [
    "## __Least square NMF__\n",
    "\n",
    "Here is the problem setting:\n",
    "\n",
    "Given a matrix $V$ living in $\\mathbb{R}^{n,m}$ we want to find matrices $W\\in\\mathbb{R}^{n,k}$ and $H\\in\\mathbb{R}^{k,m}$ solutions of the following minimization problem:\n",
    "\n",
    "$$\n",
    "\\text{minimize }||V-WH||^2 \\text{ under constraints } W,H>0\n",
    "$$\n"
   ]
  },
  {
   "cell_type": "markdown",
   "metadata": {},
   "source": [
    "The algorithm, similarly to a classical gradient descent, will start with random $W$ and $H$. Then we will apply the following update rules allowing us to converge to a local minima (the problem is non convex w.r.t. $W$,$H$).\n",
    "\n",
    "$$\n",
    "H \\leftarrow H\\odot(W^TV)\\oslash(W^TWH)\n",
    "$$\n",
    "\n",
    "$$\n",
    "W \\leftarrow W\\odot(VH^T)\\oslash(WHH^T)\n",
    "$$\n",
    "\n",
    "With $\\odot$ standing for element-wise product and $\\oslash$ standing for element-wise division"
   ]
  },
  {
   "cell_type": "code",
   "execution_count": 9,
   "metadata": {
    "collapsed": true
   },
   "outputs": [],
   "source": [
    "def non_negative_threshold(Z):\n",
    "    neg_coefs = Z<0\n",
    "    Z[neg_coefs] = 0\n",
    "    return Z"
   ]
  },
  {
   "cell_type": "code",
   "execution_count": 10,
   "metadata": {
    "collapsed": false
   },
   "outputs": [],
   "source": [
    "def ls_solver(V,W,H,t=100,verbose=False):\n",
    "    \n",
    "    def update_h(V,W,H):\n",
    "        factor1 = np.dot(W.T,V)\n",
    "        factor2 = np.dot(np.dot(W.T,W),H)\n",
    "        return H*factor1/factor2\n",
    "\n",
    "    def update_w(V,W,H):\n",
    "        factor1 = np.dot(V,H.T)\n",
    "        factor2 = np.dot(W,np.dot(H,H.T))\n",
    "        return W*factor1/factor2\n",
    "\n",
    "    def error(V,W,H):\n",
    "        return lin.norm(V-np.dot(W,H))\n",
    "    \n",
    "    \n",
    "    \n",
    "    err=[]\n",
    "    for i in range(t):\n",
    "        W_new = update_w(V,W,H)\n",
    "        W = W_new\n",
    "        H_new = update_h(V,W,H)\n",
    "        H = H_new\n",
    "        if verbose==True:\n",
    "            print error(V,W,H)\n",
    "        err.append(error(V,W,H))\n",
    "    \n",
    "    return W,H,err"
   ]
  },
  {
   "cell_type": "markdown",
   "metadata": {},
   "source": [
    "The first thing to do is to slightly modify $R_{train}$ so that all elements are non negative, and that missing values are \"far\" from observed values: add 20 to all elements and put missing values to 0."
   ]
  },
  {
   "cell_type": "code",
   "execution_count": 11,
   "metadata": {
    "collapsed": false
   },
   "outputs": [
    {
     "data": {
      "text/plain": [
       "array([[ -7.82,   8.79,  -9.66, ...,  99.  ,  99.  ,  99.  ],\n",
       "       [  4.08,  -0.29,   6.36, ...,   0.34,  -4.32,   1.07],\n",
       "       [ 99.  ,  99.  ,  99.  , ...,  99.  ,  99.  ,  99.  ],\n",
       "       ..., \n",
       "       [ -9.71,  -9.71,   6.7 , ...,  -9.71,  -9.61,  -9.81],\n",
       "       [  3.74,   3.93,   3.4 , ...,   4.9 ,   4.66,   4.22],\n",
       "       [ 99.  ,   7.33,   4.81, ...,  99.  ,  99.  ,  99.  ]])"
      ]
     },
     "execution_count": 11,
     "metadata": {},
     "output_type": "execute_result"
    }
   ],
   "source": [
    "R_train"
   ]
  },
  {
   "cell_type": "code",
   "execution_count": 12,
   "metadata": {
    "collapsed": false
   },
   "outputs": [],
   "source": [
    "R_train = R_train + 20"
   ]
  },
  {
   "cell_type": "code",
   "execution_count": 13,
   "metadata": {
    "collapsed": true
   },
   "outputs": [],
   "source": [
    "R_train[R_train == 119] = 0"
   ]
  },
  {
   "cell_type": "markdown",
   "metadata": {},
   "source": [
    "In order to measure our predictions on $R_{train}$, we extract a dense matrix, i.e. a submatrix of $R_{train}$ with no missing values inside. "
   ]
  },
  {
   "cell_type": "code",
   "execution_count": 14,
   "metadata": {
    "collapsed": false
   },
   "outputs": [
    {
     "name": "stdout",
     "output_type": "stream",
     "text": [
      "0\n",
      "10\n",
      "20\n",
      "30\n",
      "40\n",
      "50\n",
      "60\n",
      "70\n"
     ]
    }
   ],
   "source": [
    "p = R_train.shape[1]\n",
    "for i in range(p):\n",
    "    non_zero_line = R_train[:,i].nonzero()[0]\n",
    "    R_train = R_train[non_zero_line]\n",
    "    if i % 10 == 0:\n",
    "        print(i)\n",
    "    if len(R_train[:,i].nonzero()[0]) < 4000:\n",
    "        break\n",
    "    "
   ]
  },
  {
   "cell_type": "code",
   "execution_count": 15,
   "metadata": {
    "collapsed": false
   },
   "outputs": [
    {
     "data": {
      "text/plain": [
       "(3112L, 100L)"
      ]
     },
     "execution_count": 15,
     "metadata": {},
     "output_type": "execute_result"
    }
   ],
   "source": [
    "R_train.shape"
   ]
  },
  {
   "cell_type": "code",
   "execution_count": 16,
   "metadata": {
    "collapsed": true
   },
   "outputs": [],
   "source": [
    "R_train = R_train[:,:70]"
   ]
  },
  {
   "cell_type": "markdown",
   "metadata": {},
   "source": [
    "Then, we remove 10 item ratings per user, make our predictions on the matrix and compare it to the dense matrix $R_{train}$"
   ]
  },
  {
   "cell_type": "code",
   "execution_count": 17,
   "metadata": {
    "collapsed": false
   },
   "outputs": [],
   "source": [
    "R_test = R_train.copy()\n",
    "nb_items_to_remove = 10\n",
    "for j, jtem in enumerate(R_train):\n",
    "    ## Take 1st row of R_train\n",
    "    x = jtem.copy()\n",
    "\n",
    "    #remove nb_items_to_remove values of x_O_test\n",
    "    index_pred = sorted(np.random.choice(len(x), nb_items_to_remove, replace = False))\n",
    "    x[index_pred] = 0\n",
    "\n",
    "    R_test[j] = x"
   ]
  },
  {
   "cell_type": "code",
   "execution_count": 18,
   "metadata": {
    "collapsed": false
   },
   "outputs": [
    {
     "data": {
      "text/plain": [
       "array([[ 24.08,  19.71,   0.  , ...,  21.12,  20.78,  27.52],\n",
       "       [ 13.83,  16.46,  20.44, ...,  11.02,  18.06,  13.01],\n",
       "       [ 26.84,  23.16,  29.17, ...,  15.78,  10.19,   0.  ],\n",
       "       ..., \n",
       "       [ 27.04,  27.14,   0.  , ...,  19.32,  27.77,  23.3 ],\n",
       "       [ 21.8 ,  19.81,  17.33, ...,  23.98,  18.93,  19.27],\n",
       "       [ 23.74,  23.93,  23.4 , ...,  24.81,  24.47,  24.85]])"
      ]
     },
     "execution_count": 18,
     "metadata": {},
     "output_type": "execute_result"
    }
   ],
   "source": [
    "R_test"
   ]
  },
  {
   "cell_type": "code",
   "execution_count": 19,
   "metadata": {
    "collapsed": false,
    "scrolled": true
   },
   "outputs": [
    {
     "data": {
      "text/plain": [
       "array([[ 24.08,  19.71,  26.36, ...,  21.12,  20.78,  27.52],\n",
       "       [ 13.83,  16.46,  20.44, ...,  11.02,  18.06,  13.01],\n",
       "       [ 26.84,  23.16,  29.17, ...,  15.78,  10.19,  17.91],\n",
       "       ..., \n",
       "       [ 27.04,  27.14,  28.69, ...,  19.32,  27.77,  23.3 ],\n",
       "       [ 21.8 ,  19.81,  17.33, ...,  23.98,  18.93,  19.27],\n",
       "       [ 23.74,  23.93,  23.4 , ...,  24.81,  24.47,  24.85]])"
      ]
     },
     "execution_count": 19,
     "metadata": {},
     "output_type": "execute_result"
    }
   ],
   "source": [
    "R_train"
   ]
  },
  {
   "cell_type": "markdown",
   "metadata": {},
   "source": [
    "# Least-square NMF"
   ]
  },
  {
   "cell_type": "code",
   "execution_count": 30,
   "metadata": {
    "collapsed": false
   },
   "outputs": [],
   "source": [
    "V = R_test.copy()\n",
    "\n",
    "n,m = V.shape\n",
    "k = 70\n",
    "iterations = 500"
   ]
  },
  {
   "cell_type": "code",
   "execution_count": 31,
   "metadata": {
    "collapsed": true
   },
   "outputs": [],
   "source": [
    "H = non_negative_threshold(15+np.random.randn(k, m))\n",
    "W = non_negative_threshold(15+np.random.randn(n,k))"
   ]
  },
  {
   "cell_type": "code",
   "execution_count": 32,
   "metadata": {
    "collapsed": false
   },
   "outputs": [
    {
     "name": "stdout",
     "output_type": "stream",
     "text": [
      "Wall time: 5.75 s\n"
     ]
    }
   ],
   "source": [
    "%%time\n",
    "W,H,err = ls_solver(V,W,H,iterations)"
   ]
  },
  {
   "cell_type": "code",
   "execution_count": 24,
   "metadata": {
    "collapsed": false,
    "scrolled": true
   },
   "outputs": [
    {
     "data": {
      "text/plain": [
       "<matplotlib.text.Text at 0x39672710>"
      ]
     },
     "execution_count": 24,
     "metadata": {},
     "output_type": "execute_result"
    },
    {
     "data": {
      "image/png": "[encoded data removed]",
      "text/plain": [
       "<matplotlib.figure.Figure at 0x31571fd0>"
      ]
     },
     "metadata": {},
     "output_type": "display_data"
    }
   ],
   "source": [
    "plt.plot(np.arange(len(err)),err)\n",
    "plt.xlabel(\"Iteration\")\n",
    "plt.ylabel(\"Euclidian distance\")\n",
    "plt.title(\"Evolution of the distance between V and WH\")"
   ]
  },
  {
   "cell_type": "code",
   "execution_count": 25,
   "metadata": {
    "collapsed": false
   },
   "outputs": [],
   "source": [
    "MSE = mean_squared_error(R_train, W.dot(H))\n",
    "RMSE = np.sqrt(MSE)"
   ]
  },
  {
   "cell_type": "code",
   "execution_count": 26,
   "metadata": {
    "collapsed": false
   },
   "outputs": [
    {
     "data": {
      "text/plain": [
       "7.0869901861758402"
      ]
     },
     "execution_count": 26,
     "metadata": {},
     "output_type": "execute_result"
    }
   ],
   "source": [
    "RMSE"
   ]
  },
  {
   "cell_type": "code",
   "execution_count": 36,
   "metadata": {
    "collapsed": true
   },
   "outputs": [],
   "source": [
    "H = non_negative_threshold(np.random.randn(k, m))\n",
    "W = non_negative_threshold(np.random.randn(n,k))"
   ]
  },
  {
   "cell_type": "code",
   "execution_count": 37,
   "metadata": {
    "collapsed": true
   },
   "outputs": [],
   "source": [
    "MSE = mean_squared_error(R_train, W.dot(H))\n",
    "RMSE = np.sqrt(MSE)"
   ]
  },
  {
   "cell_type": "code",
   "execution_count": 38,
   "metadata": {
    "collapsed": false,
    "scrolled": true
   },
   "outputs": [
    {
     "data": {
      "text/plain": [
       "11.786352258408073"
      ]
     },
     "execution_count": 38,
     "metadata": {},
     "output_type": "execute_result"
    }
   ],
   "source": [
    "RMSE"
   ]
  },
  {
   "cell_type": "code",
   "execution_count": 42,
   "metadata": {
    "collapsed": true
   },
   "outputs": [],
   "source": [
    "H = np.ones((k, m))\n",
    "W = non_negative_threshold(np.random.randn(n,k))"
   ]
  },
  {
   "cell_type": "code",
   "execution_count": 43,
   "metadata": {
    "collapsed": true
   },
   "outputs": [],
   "source": [
    "MSE = mean_squared_error(R_train, W.dot(H))\n",
    "RMSE = np.sqrt(MSE)"
   ]
  },
  {
   "cell_type": "code",
   "execution_count": 44,
   "metadata": {
    "collapsed": false
   },
   "outputs": [
    {
     "data": {
      "text/plain": [
       "9.8615501841236597"
      ]
     },
     "execution_count": 44,
     "metadata": {},
     "output_type": "execute_result"
    }
   ],
   "source": [
    "RMSE"
   ]
  },
  {
   "cell_type": "markdown",
   "metadata": {},
   "source": [
    "## Comments:\n",
    "- Convergence is fast: it converges after 200 iterations.\n",
    "- The running time is also fast: 5.75 s\n",
    "- RMSE seems good as random predictions give a worse RMSE."
   ]
  },
  {
   "cell_type": "markdown",
   "metadata": {},
   "source": [
    "# __Kullback-Leibler NMF__\n",
    "\n",
    "Here the problem setting is similar, the only diference resides in the distance minimized:\n",
    "\n",
    "Given a matrix $V$ living in $\\mathbb{R}^{n,m}$ we want to find matrices $W\\in\\mathbb{R}^{n,k}$ and $H\\in\\mathbb{R}^{k,m}$ solutions of the following minimization problem:\n",
    "\n",
    "$$\n",
    "\\text{minimize }KL(V,WH)\\text{ under constraints } W,H>0\n",
    "$$\n"
   ]
  },
  {
   "cell_type": "markdown",
   "metadata": {},
   "source": [
    "Here again, Lee and Seung propose a multiplicative update rule rewritten using a similar paper \"MULTIPLICATIVE UPDATE RULES FOR NONNEGATIVE MATRIX FACTORIZATION WITH CO-OCCURRENCE CONSTRAINTS\" (http://sig.umd.edu/publications/Tjoa_ICASSP2_201003.pdf)\n",
    "\n",
    "$$\n",
    "H \\leftarrow H\\odot \\frac{W^T\\frac{V}{WH}}{W^T\\mathbb{1}^n}\n",
    "$$\n",
    "\n",
    "$$\n",
    "W \\leftarrow W\\odot \\frac{\\frac{V}{WH}H^T}{\\mathbb{1}^mH^T}\n",
    "$$\n",
    "\n",
    "with $\\odot$ the element-wise matrix product"
   ]
  },
  {
   "cell_type": "code",
   "execution_count": 51,
   "metadata": {
    "collapsed": false
   },
   "outputs": [],
   "source": [
    "def kl_solver(V,W,H,t=100,verbose=False):\n",
    "    \n",
    "    def update_h(V,W,H):\n",
    "        n,m = V.shape\n",
    "        unit_vector = np.ones((n,m))\n",
    "        factor1 = np.dot(W.T,V/np.dot(W,H))\n",
    "        factor2 = np.dot(W.T,unit_vector)\n",
    "        return H*factor1/factor2\n",
    "\n",
    "    def update_w(V,W,H):\n",
    "        n,m = V.shape\n",
    "        unit_vector = np.ones((n,m))\n",
    "        factor1 = np.dot(V/np.dot(W,H),H.T)\n",
    "        factor2 = np.dot(unit_vector,H.T)\n",
    "        return W*factor1/factor2\n",
    "    \n",
    "\n",
    "    def error(V,W,H):\n",
    "        return lin.norm(V-np.dot(W,H))\n",
    "    \n",
    "    \n",
    "    err=[]\n",
    "    for i in range(t):\n",
    "        W_new = update_w(V,W,H)\n",
    "        W = W_new\n",
    "        H_new = update_h(V,W,H)\n",
    "        H = H_new\n",
    "        if verbose==True:\n",
    "            print error(V,W,H)\n",
    "        err.append(error(V,W,H))\n",
    "    \n",
    "    return W,H,err"
   ]
  },
  {
   "cell_type": "code",
   "execution_count": 52,
   "metadata": {
    "collapsed": true
   },
   "outputs": [],
   "source": [
    "H = non_negative_threshold(15+np.random.randn(k, m))\n",
    "W = non_negative_threshold(15+np.random.randn(n, k))"
   ]
  },
  {
   "cell_type": "code",
   "execution_count": 53,
   "metadata": {
    "collapsed": false
   },
   "outputs": [
    {
     "name": "stdout",
     "output_type": "stream",
     "text": [
      "Wall time: 9.3 s\n"
     ]
    }
   ],
   "source": [
    "%%time\n",
    "\n",
    "W,H,err = kl_solver(V,W,H,iterations)"
   ]
  },
  {
   "cell_type": "code",
   "execution_count": 54,
   "metadata": {
    "collapsed": false
   },
   "outputs": [
    {
     "data": {
      "text/plain": [
       "<matplotlib.text.Text at 0x3975ac88>"
      ]
     },
     "execution_count": 54,
     "metadata": {},
     "output_type": "execute_result"
    },
    {
     "data": {
      "image/png": "[encoded data removed]",
      "text/plain": [
       "<matplotlib.figure.Figure at 0x39cffac8>"
      ]
     },
     "metadata": {},
     "output_type": "display_data"
    }
   ],
   "source": [
    "plt.plot(np.arange(len(err)),err)\n",
    "plt.xlabel(\"Iteration\")\n",
    "plt.ylabel(\"Euclidian distance\")\n",
    "plt.title(\"Evolution of the distance between V and WH\")"
   ]
  },
  {
   "cell_type": "code",
   "execution_count": 55,
   "metadata": {
    "collapsed": false
   },
   "outputs": [],
   "source": [
    "MSE = mean_squared_error(R_train, W.dot(H))\n",
    "RMSE = np.sqrt(MSE)\n"
   ]
  },
  {
   "cell_type": "code",
   "execution_count": 56,
   "metadata": {
    "collapsed": false
   },
   "outputs": [
    {
     "data": {
      "text/plain": [
       "8.7058888277608251"
      ]
     },
     "execution_count": 56,
     "metadata": {},
     "output_type": "execute_result"
    }
   ],
   "source": [
    "RMSE"
   ]
  },
  {
   "cell_type": "code",
   "execution_count": 276,
   "metadata": {
    "collapsed": false
   },
   "outputs": [
    {
     "data": {
      "text/plain": [
       "11.167427340794898"
      ]
     },
     "execution_count": 276,
     "metadata": {},
     "output_type": "execute_result"
    }
   ],
   "source": [
    "np.linalg.norm(W, ord ='fro')"
   ]
  },
  {
   "cell_type": "markdown",
   "metadata": {},
   "source": [
    "## Comments:\n",
    "- Convergence is very fast: it converges after only 100 iterations.\n",
    "- The running time is slower: 9.3 s\n",
    "- RMSE is not very good compared to the first solver. The 2nd algorithm seems to overfit."
   ]
  },
  {
   "cell_type": "markdown",
   "metadata": {},
   "source": [
    "## Conclusion:\n",
    "### Advantages\n",
    "- Convergence for both algorithms is fast, and the Kullback-Leibler Solver is almost twice as fast as the Least-Square Solver.\n",
    "- The running time for both algorithms is quite fast (ODG: )\n",
    "\n",
    "### Drawbacks\n",
    "- Compared to other results with the Jester dataset, we should have obtained a RMSE score ranked between 7 and 4. To prove this assumption, we noticed that, given 2 random matrices $W$ and $H$, the RMSE was lower than for our 2 NMF algorithms.\n",
    "- This is due to overfitting. The matrix factorization can overfit for users with few (no more than $K$) ratings: assuming that the feature vectors $H$ of the items  rated by the user are linearly independent and $H$ does not change, there exists a user feature vector $W_u$ with zero training error. Thus, there is a potential for overfitting, if $\\eta$ and the extent of the change in $H$ are both small.\n",
    "- A common way to avoid overfitting is to apply regularization by fixing the dictionary $W$ and by penalizing the square of the Euclidean norm of the weights, i.e. the features matrix of items $H$. NMF induces sparsity a but, but it is not enough to avoid overfitting.\n",
    "- Another drawback is that these 2 algorithms cannot be used for real data, that is to say, they are not scalable. Indeed, the Jester dataset is very small compared to MovieLens for example. In addition, we have only taken a small part of this dataset.\n",
    "- Finally, the 2 algorithms don't deal with missing values: we can only measure the RMSE if the rating matrix is dense. However, this never appears with real data."
   ]
  },
  {
   "cell_type": "markdown",
   "metadata": {},
   "source": [
    "# Second part: Link with the paper K-Dimensional Coding Schemes in Hilbert Spaces"
   ]
  },
  {
   "cell_type": "markdown",
   "metadata": {},
   "source": [
    "In order to link the NMF to the paper, let's take a look at the reconstruction error defined in the paper:\n",
    "$$ f_T(x) = \\min_{y \\in Y}{\\| x - T y\\|^2} $$\n",
    "and\n",
    "$$ \\hat{y} = \\text{arg } \\min_{y \\in Y}{\\| x - T y\\|^2} $$"
   ]
  },
  {
   "cell_type": "markdown",
   "metadata": {},
   "source": [
    "To approximate $\\mathbb{E}_{x \\text{ ~ } \\mu} f_T(x)$, we use the empirical risk defined as follows: \n",
    "$$\\frac{1}{m} \\sum \\limits_{i=1}^m f_T(x_i)$$\n",
    "which corresponds to the MSE in our case, with $ x_i$ a user i of the rating matrix $R$"
   ]
  },
  {
   "cell_type": "markdown",
   "metadata": {},
   "source": [
    "For NMF coding scheme, it is proved that the \"regret\" $ \\mathbb{E}_{x \\text{ ~ } \\mu} f_T(x) - \\frac{1}{m} \\sum \\limits_{i=1}^m f_T(x_i)$ is bounded, with at least probability $1 - \\delta$ as follows:"
   ]
  },
  {
   "cell_type": "markdown",
   "metadata": {},
   "source": [
    "$$\\mathbb{E}_{x \\text{ ~ } \\mu} f_T(x) - \\frac{1}{m} \\sum \\limits_{i=1}^m f_T(x_i) \\leq \\frac{K}{\\sqrt{m}}\\left(14 \\| \\mathcal{T} \\|_{Y} + \\frac{b}{2} \\sqrt{\\ln{16 m \\| \\mathcal{T}}\\|_Y^2} \\right) + b \\sqrt{\\frac{\\ln{1/\\delta}}{2 m}}$$\n",
    "with the following notations:\n",
    "$$\\mathcal{T} = \\{T: T \\in \\mathcal{L}(\\mathbb{R}^K, H), \\|T e_k \\| = 1, \\langle T e_k , T e_l\\rangle \\geq 0, 1 \\leq k,l \\leq K \\}$$\n",
    "\n",
    "$$ \\| \\mathcal{T} \\|_Y = \\sup_{T \\in \\mathcal{T}}{\\| T \\|_Y} = \\sup_{T \\in \\mathcal{T}}{\\sup_{y \\in Y}{\\| T y\\|}} $$"
   ]
  },
  {
   "cell_type": "markdown",
   "metadata": {},
   "source": [
    "This is a proof of the convergence of our algorithms. Indeed it immediately implies uniform convergence in probability."
   ]
  },
  {
   "cell_type": "markdown",
   "metadata": {},
   "source": [
    "Here $T$ refers to the matrix $W$ - i.e. the dictionary $D$ we defined in the introduction. Let's check whether $W$ satisfy the properties required in the hypothesis:\n",
    " - Given that $W$ is a positive matrix, it satifies the conditions $ \\langle W e_k , W e_l\\rangle \\geq 0, 1 \\leq k,l \\leq 70 $.\n",
    " - $\\|W e_k \\| \\approx 1, 1 \\leq k \\leq 70$. Indeed:"
   ]
  },
  {
   "cell_type": "markdown",
   "metadata": {},
   "source": [
    "### Least-Square Solver"
   ]
  },
  {
   "cell_type": "code",
   "execution_count": 62,
   "metadata": {
    "collapsed": true
   },
   "outputs": [],
   "source": [
    "V = R_test.copy()\n",
    "n,m = V.shape\n",
    "k = 70\n",
    "iterations = 500\n",
    "H = non_negative_threshold(15+np.random.randn(k, m))\n",
    "W = non_negative_threshold(15+np.random.randn(n,k))\n",
    "W,H,err = ls_solver(V,W,H,iterations)"
   ]
  },
  {
   "cell_type": "code",
   "execution_count": 76,
   "metadata": {
    "collapsed": false,
    "scrolled": true
   },
   "outputs": [
    {
     "name": "stdout",
     "output_type": "stream",
     "text": [
      "Norm of column 0:  1.3985850952\n",
      "Norm of column 1:  0.998241035828\n",
      "Norm of column 2:  1.72506609504\n",
      "Norm of column 3:  1.58221194129\n",
      "Norm of column 4:  1.47005354001\n",
      "Norm of column 5:  1.32225609726\n",
      "Norm of column 6:  1.31890566993\n",
      "Norm of column 7:  1.70596567399\n",
      "Norm of column 8:  1.38241253814\n",
      "Norm of column 9:  1.23122887857\n",
      "Norm of column 10:  1.41073694138\n",
      "Norm of column 11:  1.20363722945\n",
      "Norm of column 12:  1.49338685499\n",
      "Norm of column 13:  1.1990835909\n",
      "Norm of column 14:  1.33311646003\n",
      "Norm of column 15:  1.58139065052\n",
      "Norm of column 16:  1.57766343388\n",
      "Norm of column 17:  1.41127822659\n",
      "Norm of column 18:  1.50142833847\n",
      "Norm of column 19:  1.3842879854\n",
      "Norm of column 20:  1.33100805053\n",
      "Norm of column 21:  1.11407641039\n",
      "Norm of column 22:  1.33265710946\n",
      "Norm of column 23:  1.41863387635\n",
      "Norm of column 24:  1.35505420255\n",
      "Norm of column 25:  1.36422207547\n",
      "Norm of column 26:  1.39493474621\n",
      "Norm of column 27:  1.41770862127\n",
      "Norm of column 28:  1.36457104831\n",
      "Norm of column 29:  1.38039514212\n",
      "Norm of column 30:  1.33499306177\n",
      "Norm of column 31:  1.22447552531\n",
      "Norm of column 32:  1.59273165895\n",
      "Norm of column 33:  1.40548374937\n",
      "Norm of column 34:  1.55531045848\n",
      "Norm of column 35:  1.25840004748\n",
      "Norm of column 36:  1.38325325886\n",
      "Norm of column 37:  1.35096723562\n",
      "Norm of column 38:  1.8063530614\n",
      "Norm of column 39:  1.57252704778\n",
      "Norm of column 40:  1.07430984497\n",
      "Norm of column 41:  1.2791089191\n",
      "Norm of column 42:  1.47703160766\n",
      "Norm of column 43:  1.30560418133\n",
      "Norm of column 44:  1.28968379772\n",
      "Norm of column 45:  1.51344510649\n",
      "Norm of column 46:  1.25387229265\n",
      "Norm of column 47:  1.45235549585\n",
      "Norm of column 48:  1.52908730718\n",
      "Norm of column 49:  1.29191425252\n",
      "Norm of column 50:  1.69606992389\n",
      "Norm of column 51:  1.47216233403\n",
      "Norm of column 52:  1.45163079163\n",
      "Norm of column 53:  1.32862402548\n",
      "Norm of column 54:  1.23895544495\n",
      "Norm of column 55:  1.43140917758\n",
      "Norm of column 56:  1.55359051247\n",
      "Norm of column 57:  1.30523390689\n",
      "Norm of column 58:  1.19834798942\n",
      "Norm of column 59:  1.56479887647\n",
      "Norm of column 60:  1.36275211678\n",
      "Norm of column 61:  1.51961529863\n",
      "Norm of column 62:  1.23808629949\n",
      "Norm of column 63:  1.3566194424\n",
      "Norm of column 64:  1.21838588322\n",
      "Norm of column 65:  1.47962553622\n",
      "Norm of column 66:  1.05937192705\n",
      "Norm of column 67:  1.09051711164\n",
      "Norm of column 68:  1.39593064456\n",
      "Norm of column 69:  1.39178725656\n"
     ]
    }
   ],
   "source": [
    "for j in range(W.shape[1]):\n",
    "    print (\"Norm of column %d: \" % j) ,  np.linalg.norm(W[:,j], ord = 2)"
   ]
  },
  {
   "cell_type": "markdown",
   "metadata": {
    "collapsed": true
   },
   "source": [
    "### Kullback-Leibler Solver"
   ]
  },
  {
   "cell_type": "code",
   "execution_count": 77,
   "metadata": {
    "collapsed": false
   },
   "outputs": [],
   "source": [
    "V = R_test.copy()\n",
    "n,m = V.shape\n",
    "k = 70\n",
    "iterations = 500\n",
    "H = non_negative_threshold(15+np.random.randn(k, m))\n",
    "W = non_negative_threshold(15+np.random.randn(n,k))\n",
    "W,H,err = kl_solver(V,W,H,iterations)"
   ]
  },
  {
   "cell_type": "code",
   "execution_count": 78,
   "metadata": {
    "collapsed": false,
    "scrolled": true
   },
   "outputs": [
    {
     "name": "stdout",
     "output_type": "stream",
     "text": [
      "Norm of column 0:  1.47279310423\n",
      "Norm of column 1:  1.62778248731\n",
      "Norm of column 2:  1.14866280956\n",
      "Norm of column 3:  1.25904924263\n",
      "Norm of column 4:  1.35587655604\n",
      "Norm of column 5:  1.5104290751\n",
      "Norm of column 6:  1.49384253434\n",
      "Norm of column 7:  1.37784581972\n",
      "Norm of column 8:  1.51946618142\n",
      "Norm of column 9:  1.68194205381\n",
      "Norm of column 10:  1.29927824895\n",
      "Norm of column 11:  1.38778289358\n",
      "Norm of column 12:  1.38309419013\n",
      "Norm of column 13:  1.45861430178\n",
      "Norm of column 14:  1.38974469203\n",
      "Norm of column 15:  1.45997425027\n",
      "Norm of column 16:  1.46615159815\n",
      "Norm of column 17:  1.41331561201\n",
      "Norm of column 18:  1.15663516734\n",
      "Norm of column 19:  1.46024616625\n",
      "Norm of column 20:  1.53083620917\n",
      "Norm of column 21:  1.44149884773\n",
      "Norm of column 22:  1.58931060511\n",
      "Norm of column 23:  1.57523418427\n",
      "Norm of column 24:  1.62703320033\n",
      "Norm of column 25:  1.26825428218\n",
      "Norm of column 26:  1.46133530719\n",
      "Norm of column 27:  1.418140273\n",
      "Norm of column 28:  1.47069349832\n",
      "Norm of column 29:  1.48944055069\n",
      "Norm of column 30:  1.58120926347\n",
      "Norm of column 31:  1.69859726055\n",
      "Norm of column 32:  1.05930309115\n",
      "Norm of column 33:  1.21689315078\n",
      "Norm of column 34:  1.69344007865\n",
      "Norm of column 35:  1.53304518855\n",
      "Norm of column 36:  1.33239065598\n",
      "Norm of column 37:  1.45669139725\n",
      "Norm of column 38:  1.25371042753\n",
      "Norm of column 39:  1.37863460055\n",
      "Norm of column 40:  1.25719422108\n",
      "Norm of column 41:  1.49552427802\n",
      "Norm of column 42:  1.37471433971\n",
      "Norm of column 43:  1.32772203292\n",
      "Norm of column 44:  1.52011440812\n",
      "Norm of column 45:  1.43231707725\n",
      "Norm of column 46:  1.63172531457\n",
      "Norm of column 47:  1.01980310515\n",
      "Norm of column 48:  1.45923948048\n",
      "Norm of column 49:  1.71227863168\n",
      "Norm of column 50:  1.31632256824\n",
      "Norm of column 51:  1.71492466446\n",
      "Norm of column 52:  1.43674263247\n",
      "Norm of column 53:  1.23624018816\n",
      "Norm of column 54:  1.16042206372\n",
      "Norm of column 55:  1.40225476677\n",
      "Norm of column 56:  1.58856475418\n",
      "Norm of column 57:  1.29653202652\n",
      "Norm of column 58:  1.4396316241\n",
      "Norm of column 59:  1.38523918481\n",
      "Norm of column 60:  1.7585473744\n",
      "Norm of column 61:  1.26207652833\n",
      "Norm of column 62:  1.68444488392\n",
      "Norm of column 63:  1.53188797987\n",
      "Norm of column 64:  1.41333572742\n",
      "Norm of column 65:  1.43954073752\n",
      "Norm of column 66:  1.47476895745\n",
      "Norm of column 67:  1.1923266188\n",
      "Norm of column 68:  1.58813819876\n",
      "Norm of column 69:  1.34174915704\n"
     ]
    }
   ],
   "source": [
    "for j in range(W.shape[1]):\n",
    "    print (\"Norm of column %d: \" % j) ,  np.linalg.norm(W[:,j], ord = 2)"
   ]
  },
  {
   "cell_type": "markdown",
   "metadata": {},
   "source": [
    "$\\| \\mathcal{T} \\|_Y = \\sqrt{K} $ and $b = 1$ so in our case, the bound becomes:\n",
    "    $$\\mathbb{E}_{x \\text{ ~ } \\mu} f_T(x) - \\frac{1}{m} \\sum \\limits_{i=1}^m f_T(x_i) \\leq \\frac{K}{\\sqrt{m}}\\left(14 \\sqrt{K} + \\sqrt{\\ln{16 m K}} \\right) + \\sqrt{\\frac{\\ln{1/\\delta}}{2 m}}$$"
   ]
  },
  {
   "cell_type": "markdown",
   "metadata": {},
   "source": [
    "Since $K = 70$, $m = 3112$ and we take $\\delta = 0.05$ (the inequality is verified with probability $0.95$):\n"
   ]
  },
  {
   "cell_type": "code",
   "execution_count": 94,
   "metadata": {
    "collapsed": false
   },
   "outputs": [
    {
     "data": {
      "text/plain": [
       "151.842397802297"
      ]
     },
     "execution_count": 94,
     "metadata": {},
     "output_type": "execute_result"
    }
   ],
   "source": [
    "B =(70 / np.sqrt(3112))*(14 * np.sqrt(70) + np.sqrt(np.log(15 * 3112 * 70)) + np.sqrt(np.log(1/0.95)/(2 * 3112)))\n",
    "B"
   ]
  },
  {
   "cell_type": "markdown",
   "metadata": {},
   "source": [
    "which means\n",
    "$$\\mathbb{E}_{x \\text{ ~ } \\mu} f_T(x) - \\frac{1}{m} \\sum \\limits_{i=1}^m f_T(x_i) \\leq 151.84$$ "
   ]
  },
  {
   "cell_type": "markdown",
   "metadata": {
    "collapsed": true
   },
   "source": [
    "To clarify some points, this bound doesn't require that $T e_k$ be positive: it only requires that $\\langle T e_k, T e_l\\rangle \\geq 0$"
   ]
  },
  {
   "cell_type": "markdown",
   "metadata": {
    "collapsed": true
   },
   "source": [
    "# Third part: Online Structured Dictionary Learning"
   ]
  },
  {
   "cell_type": "markdown",
   "metadata": {},
   "source": [
    "## 3. CF"
   ]
  },
  {
   "cell_type": "markdown",
   "metadata": {
    "collapsed": true
   },
   "source": [
    "# TODO: Put some bound from the paper"
   ]
  },
  {
   "cell_type": "code",
   "execution_count": 14,
   "metadata": {
    "collapsed": false
   },
   "outputs": [],
   "source": [
    "d_alpha = 100"
   ]
  },
  {
   "cell_type": "code",
   "execution_count": 15,
   "metadata": {
    "collapsed": false
   },
   "outputs": [
    {
     "data": {
      "text/plain": [
       "(24983L, 100L)"
      ]
     },
     "execution_count": 15,
     "metadata": {},
     "output_type": "execute_result"
    }
   ],
   "source": [
    "ratings.shape"
   ]
  },
  {
   "cell_type": "code",
   "execution_count": 16,
   "metadata": {
    "collapsed": true
   },
   "outputs": [],
   "source": []
  },
  {
   "cell_type": "code",
   "execution_count": 17,
   "metadata": {
    "collapsed": false
   },
   "outputs": [
    {
     "data": {
      "text/plain": [
       "(4983L, 100L)"
      ]
     },
     "execution_count": 17,
     "metadata": {},
     "output_type": "execute_result"
    }
   ],
   "source": [
    "R_test.shape"
   ]
  },
  {
   "cell_type": "markdown",
   "metadata": {},
   "source": [
    "# Initialisation de l'entrée dans l'algo"
   ]
  },
  {
   "cell_type": "markdown",
   "metadata": {},
   "source": [
    "## On initialise D, $\\alpha$, etc. "
   ]
  },
  {
   "cell_type": "code",
   "execution_count": 124,
   "metadata": {
    "collapsed": true
   },
   "outputs": [],
   "source": [
    "N, d_x = R_train.shape"
   ]
  },
  {
   "cell_type": "code",
   "execution_count": 123,
   "metadata": {
    "collapsed": false
   },
   "outputs": [
    {
     "ename": "TypeError",
     "evalue": "data type not understood",
     "output_type": "error",
     "traceback": [
      "\u001b[1;31m---------------------------------------------------------------------------\u001b[0m",
      "\u001b[1;31mTypeError\u001b[0m                                 Traceback (most recent call last)",
      "\u001b[1;32m<ipython-input-123-b9c6828c9097>\u001b[0m in \u001b[0;36m<module>\u001b[1;34m()\u001b[0m\n\u001b[1;32m----> 1\u001b[1;33m \u001b[0mnp\u001b[0m\u001b[1;33m.\u001b[0m\u001b[0mzeros\u001b[0m\u001b[1;33m(\u001b[0m\u001b[1;36m2\u001b[0m\u001b[1;33m,\u001b[0m\u001b[1;36m2\u001b[0m\u001b[1;33m)\u001b[0m\u001b[1;33m\u001b[0m\u001b[0m\n\u001b[0m",
      "\u001b[1;31mTypeError\u001b[0m: data type not understood"
     ]
    }
   ],
   "source": [
    "np.zeros(2,2)"
   ]
  },
  {
   "cell_type": "code",
   "execution_count": 131,
   "metadata": {
    "collapsed": false
   },
   "outputs": [],
   "source": [
    "### Initlialize of parameters \n",
    "#D = np.random.randn(d_x,d_alpha)\n",
    "D = np.ones((d_x, d_alpha))\n",
    "alpha = np.random.randn(d_alpha)\n",
    "T_alpha = 5\n",
    "epsilon = 10**(-5)\n",
    "eta = 0.5\n",
    "kappa = 1. / (2**10)\n",
    "#d_G = np.ones(d_alpha)\n",
    "d_G = group_structure(d_alpha, struct='lasso', nb_group=10)"
   ]
  },
  {
   "cell_type": "code",
   "execution_count": 23,
   "metadata": {
    "collapsed": false
   },
   "outputs": [
    {
     "data": {
      "text/plain": [
       "array([ 1.,  0.,  0.,  0.,  0.,  0.,  0.,  0.,  0.,  0.,  0.,  0.,  0.,\n",
       "        0.,  0.,  0.,  0.,  0.,  0.,  0.,  0.,  0.,  0.,  0.,  0.,  0.,\n",
       "        0.,  0.,  0.,  0.,  0.,  0.,  0.,  0.,  0.,  0.,  0.,  0.,  0.,\n",
       "        0.,  0.,  0.,  0.,  0.,  0.,  0.,  0.,  0.,  0.,  0.,  0.,  0.,\n",
       "        0.,  0.,  0.,  0.,  0.,  0.,  0.,  0.,  0.,  0.,  0.,  0.,  0.,\n",
       "        0.,  0.,  0.,  0.,  0.,  0.,  0.,  0.,  0.,  0.,  0.,  0.,  0.,\n",
       "        0.,  0.,  0.,  0.,  0.,  0.,  0.,  0.,  0.,  0.,  0.,  0.,  0.,\n",
       "        0.,  0.,  0.,  0.,  0.,  0.,  0.,  0.,  0.])"
      ]
     },
     "execution_count": 23,
     "metadata": {},
     "output_type": "execute_result"
    }
   ],
   "source": [
    "d_G[0]"
   ]
  },
  {
   "cell_type": "code",
   "execution_count": 126,
   "metadata": {
    "collapsed": false
   },
   "outputs": [
    {
     "data": {
      "text/plain": [
       "array([ -2.84747649e-01,   8.11172050e-01,  -3.35750806e-01,\n",
       "        -1.12404880e+00,  -2.11700797e+00,   1.53686972e-01,\n",
       "        -1.13571637e-01,   6.34650571e-04,  -1.57193346e+00,\n",
       "        -4.43974897e-01,   2.46123279e-02,  -6.30150665e-01,\n",
       "        -1.61351667e+00,   4.32873320e-02,  -1.18885647e+00,\n",
       "         1.22877871e-01,  -4.98188002e-02,   2.65509225e-01,\n",
       "         2.21436049e-01,   8.65187145e-01,   1.36105312e-02,\n",
       "         9.07371389e-01,   4.98420555e-01,  -3.09835006e-01,\n",
       "         8.61622053e-03,   1.04723217e-02,  -6.92108324e-01,\n",
       "        -2.08681447e-01,   2.66401056e+00,   1.25761839e+00,\n",
       "        -1.05331790e+00,   7.75537849e-01,  -5.58575504e-01,\n",
       "         3.81421518e-01,   6.12055754e-02,   8.46009397e-01,\n",
       "        -1.54450499e+00,   2.97788119e-01,   1.43402966e+00,\n",
       "        -5.42858343e-01,  -1.45433048e+00,  -1.32153065e+00,\n",
       "        -4.88246422e-01,  -3.86288907e-01,  -7.70457081e-02,\n",
       "         6.88895056e-02,  -7.59731946e-01,   6.17517613e-01,\n",
       "        -3.39936550e-01,   7.97592105e-01,  -1.16969386e+00,\n",
       "        -7.46184605e-01,   7.34473559e-01,  -6.66309356e-01,\n",
       "         4.05961103e-01,  -1.78323294e+00,  -8.38913804e-02,\n",
       "        -6.18664674e-01,   2.09438614e-01,   4.48911556e-01,\n",
       "        -7.54721723e-01,   3.92139265e-02,   1.59998505e-01,\n",
       "        -2.03229481e-01,  -1.56785597e+00,  -1.19786297e+00,\n",
       "        -5.62480272e-01,  -1.31571471e-01,   1.27834590e+00,\n",
       "        -9.99943482e-01,   2.01457609e-01,  -6.45782631e-01,\n",
       "         5.58926072e-01,   1.80262558e+00,   1.74923005e+00,\n",
       "        -5.50254510e-01,  -1.50439283e+00,   1.33070002e-01,\n",
       "         1.94964746e+00,   3.22838027e-01,  -6.40173489e-01,\n",
       "         6.29118137e-01,  -1.37719641e+00,   1.08159678e+00,\n",
       "        -2.71071227e+00,   9.11132541e-01,  -6.12988301e-02,\n",
       "        -1.27813232e+00,  -1.32135275e+00,  -7.49103930e-01,\n",
       "         4.60771333e-02,   1.61962788e-01,  -1.55369730e+00,\n",
       "        -5.72335747e-01,  -1.45365836e+00,   2.91531621e-01,\n",
       "        -8.47021621e-01,   1.39565912e-01,   6.08941854e-01,\n",
       "        -1.12366805e+00])"
      ]
     },
     "execution_count": 126,
     "metadata": {},
     "output_type": "execute_result"
    }
   ],
   "source": [
    "alpha"
   ]
  },
  {
   "cell_type": "markdown",
   "metadata": {},
   "source": [
    "## On extrait $x_O$ de $x$, $D_O$ de $D$"
   ]
  },
  {
   "cell_type": "code",
   "execution_count": 242,
   "metadata": {
    "collapsed": false
   },
   "outputs": [],
   "source": [
    "## Take 1st row of R_train\n",
    "x = list(R_train[0].copy())\n",
    "\n",
    "## Save indexes of observed values\n",
    "indices = [i for i, item in enumerate(x) if item != 99]\n",
    "\n",
    "#remove missing values of first row of R_train\n",
    "x_O = [a for a in x if a != 99]\n",
    "\n",
    "# save the observed rows of D\n",
    "D_O = D[np.array(indices),:].copy() "
   ]
  },
  {
   "cell_type": "code",
   "execution_count": 127,
   "metadata": {
    "collapsed": false
   },
   "outputs": [],
   "source": [
    "def min_alpha(x_O, D_O, alpha, eta, d_alpha, T_alpha, epsilon, d_G):\n",
    "    ## Minimisation on alpha\n",
    "    for t in range(T_alpha):\n",
    "\n",
    "        ## Compute z\n",
    "        norm_G_alpha = []\n",
    "\n",
    "        for j in d_G:\n",
    "            norm_G_alpha.append(np.linalg.norm(j * alpha, ord =2))\n",
    "        coef = (np.linalg.norm(norm_G_alpha, ord = eta) ** (eta - 1))\n",
    "\n",
    "        norm_G_alpha = np.array(norm_G_alpha)\n",
    "        norm_G_alpha = np.power(norm_G_alpha, 2 - eta)\n",
    "        z = norm_G_alpha * coef\n",
    "        for i, item in enumerate(z):\n",
    "            z[i] = max(item, epsilon)\n",
    "\n",
    "        \n",
    "        ## Compute alpha\n",
    "        ksi = []\n",
    "        for j in range(d_alpha):\n",
    "            coef_ksi = 0.0\n",
    "            for i, item in enumerate(z):\n",
    "                coef_ksi += (d_G[i][j])**2 / item \n",
    "            ksi.append(coef_ksi)\n",
    "        \n",
    "        ### Pour résoudre le pb de progammation quadratique, on utilise cvxopt\n",
    "        # P = kappa * diag(ksi) + D_O.T.dot(D_O)\n",
    "        # Q = - D_O.T.dot(x_O)\n",
    "        P = kappa * np.diag(ksi) + D_O.T.dot(D_O)\n",
    "        P = cvxopt.matrix(P)\n",
    "\n",
    "        q = - D_O.T.dot(x_O)\n",
    "        q = cvxopt.matrix(q)\n",
    "\n",
    "        sol = cvxopt.solvers.qp(P,q)\n",
    "        alpha = np.ravel(sol['x'])\n",
    "    return alpha"
   ]
  },
  {
   "cell_type": "code",
   "execution_count": 243,
   "metadata": {
    "collapsed": false
   },
   "outputs": [],
   "source": [
    "alpha = min_alpha(x_O, D_O, alpha, eta, d_alpha, T_alpha, epsilon, d_G)"
   ]
  },
  {
   "cell_type": "code",
   "execution_count": 244,
   "metadata": {
    "collapsed": false
   },
   "outputs": [
    {
     "data": {
      "text/plain": [
       "array([ -4.42423503e-03,   7.73132758e-01,  -1.92842830e-03,\n",
       "         6.39557785e-01,   8.44078406e-01,   1.65145383e+00,\n",
       "        -2.02564547e+00,  -1.38509686e+00,   2.55241164e+00,\n",
       "         3.58248673e+00,   2.14158321e-01,   1.39804015e+00,\n",
       "         1.21190967e+00,   1.19172084e-02,  -7.39976438e-01,\n",
       "        -8.84294653e-01,  -2.61427167e+00,  -9.83050675e-01,\n",
       "         3.04163367e+00,  -8.99400128e-02,  -1.20852488e-03,\n",
       "        -2.16870925e-03,   3.13649581e+00,  -7.44198137e-01,\n",
       "        -2.06542475e-03,  -2.38728310e-01,   1.31282960e+00,\n",
       "        -6.23508621e-01,   8.72839144e-01,   1.22546233e+00,\n",
       "         6.13006627e-01,  -1.77600661e+00,  -3.69670619e-01,\n",
       "         1.35573352e-01,  -8.35067040e-03,   1.52061564e+00,\n",
       "         1.03232727e+00,  -5.54533526e-01,   1.93495981e+00,\n",
       "         1.61971959e-02,   2.57337339e+00,   3.58793363e-01,\n",
       "         9.93485401e-01,  -1.34915583e-02,   2.51974941e+00,\n",
       "        -1.50184326e+00,  -7.60379104e-01,  -6.34946053e-03,\n",
       "        -2.33953169e+00,   1.96795652e+00,  -3.73324806e-03,\n",
       "         9.95423825e-01,  -1.55634505e-03,   2.92112238e-01,\n",
       "         5.81061186e-04,  -1.23438750e+00,   1.34260324e-03,\n",
       "         3.61187942e+00,   5.83503443e-01,   2.55954511e+00,\n",
       "        -8.16081162e-01,  -2.78235743e+00,  -3.62693745e-01,\n",
       "         1.37973781e+00,   2.45601089e-03,  -9.03804311e-01,\n",
       "        -1.20649960e+00,   1.30891750e+00,  -1.80647121e+00,\n",
       "         2.52941218e+00,  -2.52573487e+00,  -3.44364501e+00,\n",
       "         2.31917885e+00,   7.90788519e-01,  -1.06430733e-03,\n",
       "         6.24151504e-03,   3.88599828e-02,   2.90992992e+00,\n",
       "         2.46618557e-02,   3.85173150e+00,   1.53671181e-01,\n",
       "        -1.84653565e-01,  -2.51416112e+00,   2.50556225e-03,\n",
       "        -3.46158117e-04,  -3.31410984e+00,  -8.25911544e-02,\n",
       "        -1.20379215e+00,   1.63655327e+00,  -1.15221676e+00,\n",
       "         3.84226720e+00,   5.99880020e-04,   1.74736220e-03,\n",
       "         6.31589391e-01,  -6.33251346e-04,   2.27607568e+00,\n",
       "         2.33009511e-03,  -1.21812935e+00,   1.61649442e+00,\n",
       "         2.12409211e+00])"
      ]
     },
     "execution_count": 244,
     "metadata": {},
     "output_type": "execute_result"
    }
   ],
   "source": [
    "alpha"
   ]
  },
  {
   "cell_type": "code",
   "execution_count": 128,
   "metadata": {
    "collapsed": false
   },
   "outputs": [],
   "source": [
    "def testing_model(D, alpha, nb_items_to_remove, R_test, model = 'NMF', missing_value = 99):\n",
    "    ## Define testing set\n",
    "    # On définit le testing set, on fait la prédiction et on calcule l'erreur dans 1 même boucle\n",
    "    \n",
    "    N = R_test.shape[0]\n",
    "    MSE = 0.0\n",
    "    #if model == 'NMF':\n",
    "     #   XXXXXXXX\n",
    "    if model == 'OSDL':\n",
    "        for j, jtem in enumerate(R_test):\n",
    "            ## Take 1st row of R_train\n",
    "            x = jtem.copy()\n",
    "\n",
    "            ## Save indexes of observed values\n",
    "            indices = [i for i, item in enumerate(x) if item != missing_value]\n",
    "            indices = np.array(indices)\n",
    "\n",
    "            # save the observed rows of D\n",
    "            # we will use for prediction of x_O_pred and compare it to x_O\n",
    "            D_O_test = D[np.array(indices),:].copy() \n",
    "\n",
    "            #remove missing values of first row of R_train\n",
    "            x_O_test = x[indices]\n",
    "\n",
    "            #remove nb_items_to_remove values of x_O_test\n",
    "            index_pred = sorted(np.random.choice(len(x_O_test), len(x_O_test) - nb_items_to_remove, replace = False))\n",
    "            x_O_pred = x_O_test[index_pred].copy()\n",
    "            D_O_pred = D[index_pred,:].copy()\n",
    "\n",
    "            #prediction\n",
    "            alpha_test = min_alpha(x_O_pred, D_O_pred, alpha, eta, d_alpha, T_alpha, epsilon, d_G)\n",
    "\n",
    "            MSE += mean_squared_error(x_O_test, D_O_test.dot(alpha_test))\n",
    "\n",
    "        MSE = MSE / N\n",
    "        RMSE = np.sqrt(MSE)\n",
    "    return 'MSE: ',MSE, ' RMSE: ', RMSE\n",
    "        \n",
    "    "
   ]
  },
  {
   "cell_type": "code",
   "execution_count": 132,
   "metadata": {
    "collapsed": false,
    "scrolled": true
   },
   "outputs": [
    {
     "data": {
      "text/plain": [
       "('MSE: ', 21.379577341578543, ' RMSE: ', 4.6238055042982227)"
      ]
     },
     "execution_count": 132,
     "metadata": {},
     "output_type": "execute_result"
    }
   ],
   "source": [
    "testing_model(D, alpha, 10, R_test, model = 'OSDL', missing_value = 99)"
   ]
  },
  {
   "cell_type": "code",
   "execution_count": 21,
   "metadata": {
    "collapsed": false
   },
   "outputs": [],
   "source": [
    "def group_structure(d_alpha, struct, nb_group=3):\n",
    "    if struct == 'lasso':\n",
    "        d_G = []\n",
    "        for i in range(d_alpha):\n",
    "            G = np.zeros(d_alpha)\n",
    "            G[i] = 1\n",
    "            d_G.append(G)\n",
    "            \n",
    "    if struct == 'group_lasso':\n",
    "        # fonction rand pour donner le nombre d'indices dans chaque partition de {1...d_alpha}\n",
    "        # Exemple: n paritions\n",
    "        partition = sorted(np.random.choice(d_alpha, nb_group-1, replace = False))\n",
    "\n",
    "        ## shuffle les indices\n",
    "        shuffled_indices = np.random.choice(d_alpha, d_alpha, replace = False)\n",
    "        \n",
    "        ## Création des groupes\n",
    "        x = []\n",
    "        for i, item in enumerate(partition):\n",
    "            if i == 0:\n",
    "                x.append(shuffled_indices[:item])\n",
    "            elif i == len(partition) - 1:\n",
    "                x.append(shuffled_indices[partition[i-1]:item])\n",
    "                x.append(shuffled_indices[item:])\n",
    "            else:\n",
    "                x.append(shuffled_indices[partition[i-1]: item])\n",
    "        d_G = []\n",
    "        for i, item in enumerate(x):\n",
    "            G = np.zeros(d_alpha)\n",
    "            G[item] = 1\n",
    "            d_G.append(G)\n",
    "            \n",
    "    return d_G\n",
    "    "
   ]
  },
  {
   "cell_type": "code",
   "execution_count": 230,
   "metadata": {
    "collapsed": false
   },
   "outputs": [
    {
     "data": {
      "text/plain": [
       "array([ 1.,  0.,  0.,  0.,  0.,  0.,  0.,  0.,  0.,  0.,  0.,  0.,  0.,\n",
       "        0.,  0.,  0.,  0.,  0.,  0.,  0.,  0.,  0.,  0.,  0.,  0.,  0.,\n",
       "        0.,  0.,  0.,  0.,  0.,  0.,  0.,  0.,  0.,  0.,  0.,  0.,  0.,\n",
       "        0.,  0.,  0.,  0.,  0.,  0.,  0.,  0.,  0.,  0.,  0.,  0.,  0.,\n",
       "        0.,  0.,  0.,  0.,  0.,  0.,  0.,  0.,  0.,  0.,  0.,  0.,  0.,\n",
       "        0.,  0.,  0.,  0.,  0.,  0.,  0.,  0.,  0.,  0.,  0.,  0.,  0.,\n",
       "        0.,  0.,  0.,  0.,  0.,  0.,  0.,  0.,  0.,  0.,  0.,  0.,  0.,\n",
       "        0.,  0.,  0.,  0.,  0.,  0.,  0.,  0.,  0.])"
      ]
     },
     "execution_count": 230,
     "metadata": {},
     "output_type": "execute_result"
    }
   ],
   "source": [
    "group_structure(d_alpha, struct='lasso', nb_group=3)[0]"
   ]
  },
  {
   "cell_type": "code",
   "execution_count": null,
   "metadata": {
    "collapsed": true
   },
   "outputs": [],
   "source": []
  }
 ],
 "metadata": {
  "kernelspec": {
   "display_name": "Python 2",
   "language": "python",
   "name": "python2"
  },
  "language_info": {
   "codemirror_mode": {
    "name": "ipython",
    "version": 2
   },
   "file_extension": ".py",
   "mimetype": "text/x-python",
   "name": "python",
   "nbconvert_exporter": "python",
   "pygments_lexer": "ipython2",
   "version": "2.7.11"
  }
 },
 "nbformat": 4,
 "nbformat_minor": 0
}
